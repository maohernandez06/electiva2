{
 "cells": [
  {
   "cell_type": "code",
   "execution_count": 100,
   "id": "fb903636",
   "metadata": {},
   "outputs": [],
   "source": [
    "import pandas as pd\n",
    "from sklearn.model_selection import train_test_split\n",
    "import math as mt\n",
    "import numpy as np\n",
    "import matplotlib.pyplot as plt\n",
    "import seaborn as sns"
   ]
  },
  {
   "cell_type": "code",
   "execution_count": 101,
   "id": "ca6be570",
   "metadata": {},
   "outputs": [],
   "source": [
    "df = pd.read_csv(\"s3://claseelectiva2mao/german_credit_data.csv\")"
   ]
  },
  {
   "cell_type": "code",
   "execution_count": 102,
   "id": "bddbd448",
   "metadata": {},
   "outputs": [
    {
     "name": "stdout",
     "output_type": "stream",
     "text": [
      "<class 'pandas.core.frame.DataFrame'>\n",
      "RangeIndex: 1000 entries, 0 to 999\n",
      "Data columns (total 11 columns):\n",
      " #   Column            Non-Null Count  Dtype \n",
      "---  ------            --------------  ----- \n",
      " 0   Unnamed: 0        1000 non-null   int64 \n",
      " 1   Age               1000 non-null   int64 \n",
      " 2   Sex               1000 non-null   object\n",
      " 3   Job               1000 non-null   int64 \n",
      " 4   Housing           1000 non-null   object\n",
      " 5   Saving accounts   817 non-null    object\n",
      " 6   Checking account  606 non-null    object\n",
      " 7   Credit amount     1000 non-null   int64 \n",
      " 8   Duration          1000 non-null   int64 \n",
      " 9   Purpose           1000 non-null   object\n",
      " 10  Risk              1000 non-null   object\n",
      "dtypes: int64(5), object(6)\n",
      "memory usage: 86.1+ KB\n"
     ]
    }
   ],
   "source": [
    "df.info()"
   ]
  },
  {
   "cell_type": "code",
   "execution_count": 103,
   "id": "685f16db",
   "metadata": {},
   "outputs": [
    {
     "data": {
      "text/plain": [
       "good    0.7\n",
       "bad     0.3\n",
       "Name: Risk, dtype: float64"
      ]
     },
     "execution_count": 103,
     "metadata": {},
     "output_type": "execute_result"
    }
   ],
   "source": [
    "df[\"Risk\"].value_counts()/df[\"Risk\"].count()"
   ]
  },
  {
   "cell_type": "code",
   "execution_count": 104,
   "id": "b6a40d4b",
   "metadata": {},
   "outputs": [],
   "source": [
    "train, test = train_test_split(df, test_size=0.3, random_state=42, stratify=df[\"Risk\"])"
   ]
  },
  {
   "cell_type": "code",
   "execution_count": 105,
   "id": "815fa107",
   "metadata": {},
   "outputs": [
    {
     "data": {
      "text/plain": [
       "good    0.7\n",
       "bad     0.3\n",
       "Name: Risk, dtype: float64"
      ]
     },
     "execution_count": 105,
     "metadata": {},
     "output_type": "execute_result"
    }
   ],
   "source": [
    "train[\"Risk\"].value_counts()/train[\"Risk\"].count()"
   ]
  },
  {
   "cell_type": "code",
   "execution_count": 106,
   "id": "6e9cd362",
   "metadata": {},
   "outputs": [
    {
     "data": {
      "text/plain": [
       "good    0.7\n",
       "bad     0.3\n",
       "Name: Risk, dtype: float64"
      ]
     },
     "execution_count": 106,
     "metadata": {},
     "output_type": "execute_result"
    }
   ],
   "source": [
    "test[\"Risk\"].value_counts()/test[\"Risk\"].count()"
   ]
  },
  {
   "cell_type": "code",
   "execution_count": 107,
   "id": "6a4e9c01",
   "metadata": {},
   "outputs": [],
   "source": [
    "train.to_csv(\"s3://claseelectiva2mao/datos/train\", index=False)"
   ]
  },
  {
   "cell_type": "code",
   "execution_count": 108,
   "id": "a60c23a5",
   "metadata": {},
   "outputs": [],
   "source": [
    "test.to_csv(\"s3://claseelectiva2mao/datos/test\", index=False)"
   ]
  },
  {
   "cell_type": "code",
   "execution_count": 109,
   "id": "7c29b629",
   "metadata": {},
   "outputs": [
    {
     "data": {
      "text/html": [
       "<div>\n",
       "<style scoped>\n",
       "    .dataframe tbody tr th:only-of-type {\n",
       "        vertical-align: middle;\n",
       "    }\n",
       "\n",
       "    .dataframe tbody tr th {\n",
       "        vertical-align: top;\n",
       "    }\n",
       "\n",
       "    .dataframe thead th {\n",
       "        text-align: right;\n",
       "    }\n",
       "</style>\n",
       "<table border=\"1\" class=\"dataframe\">\n",
       "  <thead>\n",
       "    <tr style=\"text-align: right;\">\n",
       "      <th></th>\n",
       "      <th>Unnamed: 0</th>\n",
       "      <th>Age</th>\n",
       "      <th>Sex</th>\n",
       "      <th>Job</th>\n",
       "      <th>Housing</th>\n",
       "      <th>Saving accounts</th>\n",
       "      <th>Checking account</th>\n",
       "      <th>Credit amount</th>\n",
       "      <th>Duration</th>\n",
       "      <th>Purpose</th>\n",
       "      <th>Risk</th>\n",
       "    </tr>\n",
       "  </thead>\n",
       "  <tbody>\n",
       "    <tr>\n",
       "      <th>328</th>\n",
       "      <td>328</td>\n",
       "      <td>31</td>\n",
       "      <td>male</td>\n",
       "      <td>2</td>\n",
       "      <td>own</td>\n",
       "      <td>little</td>\n",
       "      <td>rich</td>\n",
       "      <td>4473</td>\n",
       "      <td>36</td>\n",
       "      <td>radio/TV</td>\n",
       "      <td>good</td>\n",
       "    </tr>\n",
       "    <tr>\n",
       "      <th>891</th>\n",
       "      <td>891</td>\n",
       "      <td>46</td>\n",
       "      <td>male</td>\n",
       "      <td>2</td>\n",
       "      <td>own</td>\n",
       "      <td>little</td>\n",
       "      <td>NaN</td>\n",
       "      <td>1829</td>\n",
       "      <td>15</td>\n",
       "      <td>radio/TV</td>\n",
       "      <td>good</td>\n",
       "    </tr>\n",
       "    <tr>\n",
       "      <th>255</th>\n",
       "      <td>255</td>\n",
       "      <td>27</td>\n",
       "      <td>male</td>\n",
       "      <td>1</td>\n",
       "      <td>own</td>\n",
       "      <td>NaN</td>\n",
       "      <td>moderate</td>\n",
       "      <td>7418</td>\n",
       "      <td>60</td>\n",
       "      <td>radio/TV</td>\n",
       "      <td>good</td>\n",
       "    </tr>\n",
       "    <tr>\n",
       "      <th>243</th>\n",
       "      <td>243</td>\n",
       "      <td>27</td>\n",
       "      <td>female</td>\n",
       "      <td>2</td>\n",
       "      <td>own</td>\n",
       "      <td>little</td>\n",
       "      <td>NaN</td>\n",
       "      <td>1185</td>\n",
       "      <td>12</td>\n",
       "      <td>business</td>\n",
       "      <td>good</td>\n",
       "    </tr>\n",
       "    <tr>\n",
       "      <th>492</th>\n",
       "      <td>492</td>\n",
       "      <td>27</td>\n",
       "      <td>female</td>\n",
       "      <td>2</td>\n",
       "      <td>own</td>\n",
       "      <td>moderate</td>\n",
       "      <td>NaN</td>\n",
       "      <td>1237</td>\n",
       "      <td>6</td>\n",
       "      <td>radio/TV</td>\n",
       "      <td>good</td>\n",
       "    </tr>\n",
       "  </tbody>\n",
       "</table>\n",
       "</div>"
      ],
      "text/plain": [
       "     Unnamed: 0  Age     Sex  Job Housing Saving accounts Checking account  \\\n",
       "328         328   31    male    2     own          little             rich   \n",
       "891         891   46    male    2     own          little              NaN   \n",
       "255         255   27    male    1     own             NaN         moderate   \n",
       "243         243   27  female    2     own          little              NaN   \n",
       "492         492   27  female    2     own        moderate              NaN   \n",
       "\n",
       "     Credit amount  Duration   Purpose  Risk  \n",
       "328           4473        36  radio/TV  good  \n",
       "891           1829        15  radio/TV  good  \n",
       "255           7418        60  radio/TV  good  \n",
       "243           1185        12  business  good  \n",
       "492           1237         6  radio/TV  good  "
      ]
     },
     "execution_count": 109,
     "metadata": {},
     "output_type": "execute_result"
    }
   ],
   "source": [
    "train.head()"
   ]
  },
  {
   "cell_type": "code",
   "execution_count": 110,
   "id": "94694e03",
   "metadata": {},
   "outputs": [
    {
     "data": {
      "text/plain": [
       "<AxesSubplot:xlabel='Risk', ylabel='count'>"
      ]
     },
     "execution_count": 110,
     "metadata": {},
     "output_type": "execute_result"
    },
    {
     "data": {
      "image/png": "[encoded data removed]",
      "text/plain": [
       "<Figure size 432x288 with 1 Axes>"
      ]
     },
     "metadata": {
      "needs_background": "light"
     },
     "output_type": "display_data"
    }
   ],
   "source": [
    "sns.countplot(x=train['Risk'])"
   ]
  },
  {
   "cell_type": "code",
   "execution_count": 111,
   "id": "50b63287",
   "metadata": {},
   "outputs": [
    {
     "data": {
      "text/plain": [
       "<AxesSubplot:xlabel='Sex', ylabel='count'>"
      ]
     },
     "execution_count": 111,
     "metadata": {},
     "output_type": "execute_result"
    },
    {
     "data": {
      "image/png": "[encoded data removed]",
      "text/plain": [
       "<Figure size 432x288 with 1 Axes>"
      ]
     },
     "metadata": {
      "needs_background": "light"
     },
     "output_type": "display_data"
    }
   ],
   "source": [
    "sns.countplot(x=train['Sex'])"
   ]
  },
  {
   "cell_type": "code",
   "execution_count": 112,
   "id": "61539f57",
   "metadata": {},
   "outputs": [
    {
     "ename": "AttributeError",
     "evalue": "'SeriesGroupBy' object has no attribute 'unstack'",
     "output_type": "error",
     "traceback": [
      "\u001b[0;31m---------------------------------------------------------------------------\u001b[0m",
      "\u001b[0;31mAttributeError\u001b[0m                            Traceback (most recent call last)",
      "\u001b[0;32m/tmp/ipykernel_14701/2650004673.py\u001b[0m in \u001b[0;36m<cell line: 1>\u001b[0;34m()\u001b[0m\n\u001b[0;32m----> 1\u001b[0;31m \u001b[0mtrain\u001b[0m\u001b[0;34m.\u001b[0m\u001b[0mgroupby\u001b[0m\u001b[0;34m(\u001b[0m\u001b[0;34m[\u001b[0m\u001b[0;34m'Sex'\u001b[0m\u001b[0;34m,\u001b[0m\u001b[0;34m'Age'\u001b[0m\u001b[0;34m]\u001b[0m\u001b[0;34m,\u001b[0m \u001b[0msort\u001b[0m\u001b[0;34m=\u001b[0m\u001b[0;32mFalse\u001b[0m\u001b[0;34m)\u001b[0m\u001b[0;34m[\u001b[0m\u001b[0;34m'Risk'\u001b[0m\u001b[0;34m]\u001b[0m\u001b[0;34m.\u001b[0m\u001b[0munstack\u001b[0m\u001b[0;34m(\u001b[0m\u001b[0;34m'Risk'\u001b[0m\u001b[0;34m)\u001b[0m\u001b[0;34m.\u001b[0m\u001b[0mplot\u001b[0m\u001b[0;34m(\u001b[0m\u001b[0mkind\u001b[0m\u001b[0;34m=\u001b[0m\u001b[0;34m'bar'\u001b[0m\u001b[0;34m,\u001b[0m \u001b[0mfigsize\u001b[0m\u001b[0;34m=\u001b[0m\u001b[0;34m(\u001b[0m\u001b[0;36m16\u001b[0m\u001b[0;34m,\u001b[0m\u001b[0;36m8\u001b[0m\u001b[0;34m)\u001b[0m\u001b[0;34m,\u001b[0m \u001b[0mrot\u001b[0m\u001b[0;34m=\u001b[0m\u001b[0;36m0\u001b[0m\u001b[0;34m)\u001b[0m\u001b[0;34m\u001b[0m\u001b[0;34m\u001b[0m\u001b[0m\n\u001b[0m\u001b[1;32m      2\u001b[0m \u001b[0mplt\u001b[0m\u001b[0;34m.\u001b[0m\u001b[0mshow\u001b[0m\u001b[0;34m(\u001b[0m\u001b[0;34m)\u001b[0m\u001b[0;34m\u001b[0m\u001b[0;34m\u001b[0m\u001b[0m\n",
      "\u001b[0;32m~/anaconda3/envs/python3/lib/python3.8/site-packages/pandas/core/groupby/groupby.py\u001b[0m in \u001b[0;36m__getattr__\u001b[0;34m(self, attr)\u001b[0m\n\u001b[1;32m    909\u001b[0m             \u001b[0;32mreturn\u001b[0m \u001b[0mself\u001b[0m\u001b[0;34m[\u001b[0m\u001b[0mattr\u001b[0m\u001b[0;34m]\u001b[0m\u001b[0;34m\u001b[0m\u001b[0;34m\u001b[0m\u001b[0m\n\u001b[1;32m    910\u001b[0m \u001b[0;34m\u001b[0m\u001b[0m\n\u001b[0;32m--> 911\u001b[0;31m         raise AttributeError(\n\u001b[0m\u001b[1;32m    912\u001b[0m             \u001b[0;34mf\"'{type(self).__name__}' object has no attribute '{attr}'\"\u001b[0m\u001b[0;34m\u001b[0m\u001b[0;34m\u001b[0m\u001b[0m\n\u001b[1;32m    913\u001b[0m         )\n",
      "\u001b[0;31mAttributeError\u001b[0m: 'SeriesGroupBy' object has no attribute 'unstack'"
     ]
    }
   ],
   "source": [
    "train.groupby(['Sex','Age'], sort=False)['Risk'].unstack('Risk').plot(kind='bar', figsize=(16,8), rot=0)\n",
    "plt.show()"
   ]
  },
  {
   "cell_type": "code",
   "execution_count": 113,
   "id": "1db7c4cc",
   "metadata": {},
   "outputs": [],
   "source": [
    "tabla_sex = pd.crosstab(index=train[\"Sex\"], columns= train[\"Risk\"],margins =True)"
   ]
  },
  {
   "cell_type": "code",
   "execution_count": 114,
   "id": "b3ca5580",
   "metadata": {},
   "outputs": [
    {
     "data": {
      "text/html": [
       "<div>\n",
       "<style scoped>\n",
       "    .dataframe tbody tr th:only-of-type {\n",
       "        vertical-align: middle;\n",
       "    }\n",
       "\n",
       "    .dataframe tbody tr th {\n",
       "        vertical-align: top;\n",
       "    }\n",
       "\n",
       "    .dataframe thead th {\n",
       "        text-align: right;\n",
       "    }\n",
       "</style>\n",
       "<table border=\"1\" class=\"dataframe\">\n",
       "  <thead>\n",
       "    <tr style=\"text-align: right;\">\n",
       "      <th>Risk</th>\n",
       "      <th>bad</th>\n",
       "      <th>good</th>\n",
       "      <th>All</th>\n",
       "    </tr>\n",
       "    <tr>\n",
       "      <th>Sex</th>\n",
       "      <th></th>\n",
       "      <th></th>\n",
       "      <th></th>\n",
       "    </tr>\n",
       "  </thead>\n",
       "  <tbody>\n",
       "    <tr>\n",
       "      <th>female</th>\n",
       "      <td>76</td>\n",
       "      <td>138</td>\n",
       "      <td>214</td>\n",
       "    </tr>\n",
       "    <tr>\n",
       "      <th>male</th>\n",
       "      <td>134</td>\n",
       "      <td>352</td>\n",
       "      <td>486</td>\n",
       "    </tr>\n",
       "    <tr>\n",
       "      <th>All</th>\n",
       "      <td>210</td>\n",
       "      <td>490</td>\n",
       "      <td>700</td>\n",
       "    </tr>\n",
       "  </tbody>\n",
       "</table>\n",
       "</div>"
      ],
      "text/plain": [
       "Risk    bad  good  All\n",
       "Sex                   \n",
       "female   76   138  214\n",
       "male    134   352  486\n",
       "All     210   490  700"
      ]
     },
     "execution_count": 114,
     "metadata": {},
     "output_type": "execute_result"
    }
   ],
   "source": [
    "tabla_sex\n"
   ]
  },
  {
   "cell_type": "code",
   "execution_count": 115,
   "id": "4de9c7cb",
   "metadata": {},
   "outputs": [],
   "source": [
    "tabla_sex[\"proba\"]=tabla_sex.iloc[:,1]/tabla_sex.iloc[:,2]"
   ]
  },
  {
   "cell_type": "code",
   "execution_count": 116,
   "id": "ef2f7796",
   "metadata": {},
   "outputs": [
    {
     "data": {
      "text/html": [
       "<div>\n",
       "<style scoped>\n",
       "    .dataframe tbody tr th:only-of-type {\n",
       "        vertical-align: middle;\n",
       "    }\n",
       "\n",
       "    .dataframe tbody tr th {\n",
       "        vertical-align: top;\n",
       "    }\n",
       "\n",
       "    .dataframe thead th {\n",
       "        text-align: right;\n",
       "    }\n",
       "</style>\n",
       "<table border=\"1\" class=\"dataframe\">\n",
       "  <thead>\n",
       "    <tr style=\"text-align: right;\">\n",
       "      <th>Risk</th>\n",
       "      <th>bad</th>\n",
       "      <th>good</th>\n",
       "      <th>All</th>\n",
       "      <th>proba</th>\n",
       "    </tr>\n",
       "    <tr>\n",
       "      <th>Sex</th>\n",
       "      <th></th>\n",
       "      <th></th>\n",
       "      <th></th>\n",
       "      <th></th>\n",
       "    </tr>\n",
       "  </thead>\n",
       "  <tbody>\n",
       "    <tr>\n",
       "      <th>female</th>\n",
       "      <td>76</td>\n",
       "      <td>138</td>\n",
       "      <td>214</td>\n",
       "      <td>0.64486</td>\n",
       "    </tr>\n",
       "    <tr>\n",
       "      <th>male</th>\n",
       "      <td>134</td>\n",
       "      <td>352</td>\n",
       "      <td>486</td>\n",
       "      <td>0.72428</td>\n",
       "    </tr>\n",
       "    <tr>\n",
       "      <th>All</th>\n",
       "      <td>210</td>\n",
       "      <td>490</td>\n",
       "      <td>700</td>\n",
       "      <td>0.70000</td>\n",
       "    </tr>\n",
       "  </tbody>\n",
       "</table>\n",
       "</div>"
      ],
      "text/plain": [
       "Risk    bad  good  All    proba\n",
       "Sex                            \n",
       "female   76   138  214  0.64486\n",
       "male    134   352  486  0.72428\n",
       "All     210   490  700  0.70000"
      ]
     },
     "execution_count": 116,
     "metadata": {},
     "output_type": "execute_result"
    }
   ],
   "source": [
    "tabla_sex"
   ]
  },
  {
   "cell_type": "code",
   "execution_count": 117,
   "id": "3a10a9e5",
   "metadata": {},
   "outputs": [],
   "source": [
    "tabla_age = pd.crosstab(index=train[\"Age\"], columns= train[\"Risk\"],margins =True)"
   ]
  },
  {
   "cell_type": "code",
   "execution_count": 118,
   "id": "4d0a18dc",
   "metadata": {},
   "outputs": [
    {
     "data": {
      "text/html": [
       "<div>\n",
       "<style scoped>\n",
       "    .dataframe tbody tr th:only-of-type {\n",
       "        vertical-align: middle;\n",
       "    }\n",
       "\n",
       "    .dataframe tbody tr th {\n",
       "        vertical-align: top;\n",
       "    }\n",
       "\n",
       "    .dataframe thead th {\n",
       "        text-align: right;\n",
       "    }\n",
       "</style>\n",
       "<table border=\"1\" class=\"dataframe\">\n",
       "  <thead>\n",
       "    <tr style=\"text-align: right;\">\n",
       "      <th>Risk</th>\n",
       "      <th>bad</th>\n",
       "      <th>good</th>\n",
       "      <th>All</th>\n",
       "    </tr>\n",
       "    <tr>\n",
       "      <th>Age</th>\n",
       "      <th></th>\n",
       "      <th></th>\n",
       "      <th></th>\n",
       "    </tr>\n",
       "  </thead>\n",
       "  <tbody>\n",
       "    <tr>\n",
       "      <th>20</th>\n",
       "      <td>3</td>\n",
       "      <td>8</td>\n",
       "      <td>11</td>\n",
       "    </tr>\n",
       "    <tr>\n",
       "      <th>21</th>\n",
       "      <td>3</td>\n",
       "      <td>5</td>\n",
       "      <td>8</td>\n",
       "    </tr>\n",
       "    <tr>\n",
       "      <th>22</th>\n",
       "      <td>9</td>\n",
       "      <td>13</td>\n",
       "      <td>22</td>\n",
       "    </tr>\n",
       "    <tr>\n",
       "      <th>23</th>\n",
       "      <td>13</td>\n",
       "      <td>19</td>\n",
       "      <td>32</td>\n",
       "    </tr>\n",
       "    <tr>\n",
       "      <th>24</th>\n",
       "      <td>12</td>\n",
       "      <td>17</td>\n",
       "      <td>29</td>\n",
       "    </tr>\n",
       "    <tr>\n",
       "      <th>25</th>\n",
       "      <td>15</td>\n",
       "      <td>14</td>\n",
       "      <td>29</td>\n",
       "    </tr>\n",
       "    <tr>\n",
       "      <th>26</th>\n",
       "      <td>10</td>\n",
       "      <td>21</td>\n",
       "      <td>31</td>\n",
       "    </tr>\n",
       "    <tr>\n",
       "      <th>27</th>\n",
       "      <td>11</td>\n",
       "      <td>29</td>\n",
       "      <td>40</td>\n",
       "    </tr>\n",
       "    <tr>\n",
       "      <th>28</th>\n",
       "      <td>10</td>\n",
       "      <td>23</td>\n",
       "      <td>33</td>\n",
       "    </tr>\n",
       "    <tr>\n",
       "      <th>29</th>\n",
       "      <td>11</td>\n",
       "      <td>15</td>\n",
       "      <td>26</td>\n",
       "    </tr>\n",
       "    <tr>\n",
       "      <th>30</th>\n",
       "      <td>8</td>\n",
       "      <td>22</td>\n",
       "      <td>30</td>\n",
       "    </tr>\n",
       "    <tr>\n",
       "      <th>31</th>\n",
       "      <td>8</td>\n",
       "      <td>18</td>\n",
       "      <td>26</td>\n",
       "    </tr>\n",
       "    <tr>\n",
       "      <th>32</th>\n",
       "      <td>7</td>\n",
       "      <td>20</td>\n",
       "      <td>27</td>\n",
       "    </tr>\n",
       "    <tr>\n",
       "      <th>33</th>\n",
       "      <td>8</td>\n",
       "      <td>15</td>\n",
       "      <td>23</td>\n",
       "    </tr>\n",
       "    <tr>\n",
       "      <th>34</th>\n",
       "      <td>9</td>\n",
       "      <td>15</td>\n",
       "      <td>24</td>\n",
       "    </tr>\n",
       "    <tr>\n",
       "      <th>35</th>\n",
       "      <td>3</td>\n",
       "      <td>25</td>\n",
       "      <td>28</td>\n",
       "    </tr>\n",
       "    <tr>\n",
       "      <th>36</th>\n",
       "      <td>4</td>\n",
       "      <td>17</td>\n",
       "      <td>21</td>\n",
       "    </tr>\n",
       "    <tr>\n",
       "      <th>37</th>\n",
       "      <td>5</td>\n",
       "      <td>16</td>\n",
       "      <td>21</td>\n",
       "    </tr>\n",
       "    <tr>\n",
       "      <th>38</th>\n",
       "      <td>3</td>\n",
       "      <td>15</td>\n",
       "      <td>18</td>\n",
       "    </tr>\n",
       "    <tr>\n",
       "      <th>39</th>\n",
       "      <td>6</td>\n",
       "      <td>9</td>\n",
       "      <td>15</td>\n",
       "    </tr>\n",
       "    <tr>\n",
       "      <th>40</th>\n",
       "      <td>6</td>\n",
       "      <td>13</td>\n",
       "      <td>19</td>\n",
       "    </tr>\n",
       "    <tr>\n",
       "      <th>41</th>\n",
       "      <td>3</td>\n",
       "      <td>9</td>\n",
       "      <td>12</td>\n",
       "    </tr>\n",
       "    <tr>\n",
       "      <th>42</th>\n",
       "      <td>4</td>\n",
       "      <td>12</td>\n",
       "      <td>16</td>\n",
       "    </tr>\n",
       "    <tr>\n",
       "      <th>43</th>\n",
       "      <td>4</td>\n",
       "      <td>8</td>\n",
       "      <td>12</td>\n",
       "    </tr>\n",
       "    <tr>\n",
       "      <th>44</th>\n",
       "      <td>3</td>\n",
       "      <td>9</td>\n",
       "      <td>12</td>\n",
       "    </tr>\n",
       "    <tr>\n",
       "      <th>45</th>\n",
       "      <td>3</td>\n",
       "      <td>6</td>\n",
       "      <td>9</td>\n",
       "    </tr>\n",
       "    <tr>\n",
       "      <th>46</th>\n",
       "      <td>3</td>\n",
       "      <td>11</td>\n",
       "      <td>14</td>\n",
       "    </tr>\n",
       "    <tr>\n",
       "      <th>47</th>\n",
       "      <td>2</td>\n",
       "      <td>8</td>\n",
       "      <td>10</td>\n",
       "    </tr>\n",
       "    <tr>\n",
       "      <th>48</th>\n",
       "      <td>2</td>\n",
       "      <td>6</td>\n",
       "      <td>8</td>\n",
       "    </tr>\n",
       "    <tr>\n",
       "      <th>49</th>\n",
       "      <td>1</td>\n",
       "      <td>10</td>\n",
       "      <td>11</td>\n",
       "    </tr>\n",
       "    <tr>\n",
       "      <th>50</th>\n",
       "      <td>1</td>\n",
       "      <td>8</td>\n",
       "      <td>9</td>\n",
       "    </tr>\n",
       "    <tr>\n",
       "      <th>51</th>\n",
       "      <td>1</td>\n",
       "      <td>4</td>\n",
       "      <td>5</td>\n",
       "    </tr>\n",
       "    <tr>\n",
       "      <th>52</th>\n",
       "      <td>0</td>\n",
       "      <td>5</td>\n",
       "      <td>5</td>\n",
       "    </tr>\n",
       "    <tr>\n",
       "      <th>53</th>\n",
       "      <td>3</td>\n",
       "      <td>1</td>\n",
       "      <td>4</td>\n",
       "    </tr>\n",
       "    <tr>\n",
       "      <th>54</th>\n",
       "      <td>1</td>\n",
       "      <td>4</td>\n",
       "      <td>5</td>\n",
       "    </tr>\n",
       "    <tr>\n",
       "      <th>55</th>\n",
       "      <td>2</td>\n",
       "      <td>4</td>\n",
       "      <td>6</td>\n",
       "    </tr>\n",
       "    <tr>\n",
       "      <th>56</th>\n",
       "      <td>0</td>\n",
       "      <td>2</td>\n",
       "      <td>2</td>\n",
       "    </tr>\n",
       "    <tr>\n",
       "      <th>57</th>\n",
       "      <td>2</td>\n",
       "      <td>2</td>\n",
       "      <td>4</td>\n",
       "    </tr>\n",
       "    <tr>\n",
       "      <th>58</th>\n",
       "      <td>2</td>\n",
       "      <td>2</td>\n",
       "      <td>4</td>\n",
       "    </tr>\n",
       "    <tr>\n",
       "      <th>59</th>\n",
       "      <td>1</td>\n",
       "      <td>2</td>\n",
       "      <td>3</td>\n",
       "    </tr>\n",
       "    <tr>\n",
       "      <th>60</th>\n",
       "      <td>2</td>\n",
       "      <td>3</td>\n",
       "      <td>5</td>\n",
       "    </tr>\n",
       "    <tr>\n",
       "      <th>61</th>\n",
       "      <td>2</td>\n",
       "      <td>3</td>\n",
       "      <td>5</td>\n",
       "    </tr>\n",
       "    <tr>\n",
       "      <th>62</th>\n",
       "      <td>0</td>\n",
       "      <td>2</td>\n",
       "      <td>2</td>\n",
       "    </tr>\n",
       "    <tr>\n",
       "      <th>63</th>\n",
       "      <td>0</td>\n",
       "      <td>5</td>\n",
       "      <td>5</td>\n",
       "    </tr>\n",
       "    <tr>\n",
       "      <th>64</th>\n",
       "      <td>0</td>\n",
       "      <td>3</td>\n",
       "      <td>3</td>\n",
       "    </tr>\n",
       "    <tr>\n",
       "      <th>65</th>\n",
       "      <td>0</td>\n",
       "      <td>3</td>\n",
       "      <td>3</td>\n",
       "    </tr>\n",
       "    <tr>\n",
       "      <th>66</th>\n",
       "      <td>2</td>\n",
       "      <td>3</td>\n",
       "      <td>5</td>\n",
       "    </tr>\n",
       "    <tr>\n",
       "      <th>67</th>\n",
       "      <td>0</td>\n",
       "      <td>1</td>\n",
       "      <td>1</td>\n",
       "    </tr>\n",
       "    <tr>\n",
       "      <th>68</th>\n",
       "      <td>2</td>\n",
       "      <td>1</td>\n",
       "      <td>3</td>\n",
       "    </tr>\n",
       "    <tr>\n",
       "      <th>70</th>\n",
       "      <td>0</td>\n",
       "      <td>1</td>\n",
       "      <td>1</td>\n",
       "    </tr>\n",
       "    <tr>\n",
       "      <th>74</th>\n",
       "      <td>0</td>\n",
       "      <td>1</td>\n",
       "      <td>1</td>\n",
       "    </tr>\n",
       "    <tr>\n",
       "      <th>75</th>\n",
       "      <td>0</td>\n",
       "      <td>2</td>\n",
       "      <td>2</td>\n",
       "    </tr>\n",
       "    <tr>\n",
       "      <th>All</th>\n",
       "      <td>210</td>\n",
       "      <td>490</td>\n",
       "      <td>700</td>\n",
       "    </tr>\n",
       "  </tbody>\n",
       "</table>\n",
       "</div>"
      ],
      "text/plain": [
       "Risk  bad  good  All\n",
       "Age                 \n",
       "20      3     8   11\n",
       "21      3     5    8\n",
       "22      9    13   22\n",
       "23     13    19   32\n",
       "24     12    17   29\n",
       "25     15    14   29\n",
       "26     10    21   31\n",
       "27     11    29   40\n",
       "28     10    23   33\n",
       "29     11    15   26\n",
       "30      8    22   30\n",
       "31      8    18   26\n",
       "32      7    20   27\n",
       "33      8    15   23\n",
       "34      9    15   24\n",
       "35      3    25   28\n",
       "36      4    17   21\n",
       "37      5    16   21\n",
       "38      3    15   18\n",
       "39      6     9   15\n",
       "40      6    13   19\n",
       "41      3     9   12\n",
       "42      4    12   16\n",
       "43      4     8   12\n",
       "44      3     9   12\n",
       "45      3     6    9\n",
       "46      3    11   14\n",
       "47      2     8   10\n",
       "48      2     6    8\n",
       "49      1    10   11\n",
       "50      1     8    9\n",
       "51      1     4    5\n",
       "52      0     5    5\n",
       "53      3     1    4\n",
       "54      1     4    5\n",
       "55      2     4    6\n",
       "56      0     2    2\n",
       "57      2     2    4\n",
       "58      2     2    4\n",
       "59      1     2    3\n",
       "60      2     3    5\n",
       "61      2     3    5\n",
       "62      0     2    2\n",
       "63      0     5    5\n",
       "64      0     3    3\n",
       "65      0     3    3\n",
       "66      2     3    5\n",
       "67      0     1    1\n",
       "68      2     1    3\n",
       "70      0     1    1\n",
       "74      0     1    1\n",
       "75      0     2    2\n",
       "All   210   490  700"
      ]
     },
     "execution_count": 118,
     "metadata": {},
     "output_type": "execute_result"
    }
   ],
   "source": [
    "tabla_age"
   ]
  },
  {
   "cell_type": "markdown",
   "id": "bc26d066",
   "metadata": {},
   "source": [
    "## Preprosesamiento\n",
    "\n",
    "## imputacion"
   ]
  },
  {
   "cell_type": "code",
   "execution_count": 119,
   "id": "0ef47714",
   "metadata": {},
   "outputs": [],
   "source": [
    "from sklearn.impute import SimpleImputer"
   ]
  },
  {
   "cell_type": "code",
   "execution_count": 121,
   "id": "3863222a",
   "metadata": {},
   "outputs": [],
   "source": [
    "X_train = train[[\"Age\", \"Credit amount\", \"Duration\"]]"
   ]
  },
  {
   "cell_type": "code",
   "execution_count": 122,
   "id": "5fdb64c2",
   "metadata": {},
   "outputs": [],
   "source": [
    "imputer = SimpleImputer(strategy='mean')"
   ]
  },
  {
   "cell_type": "code",
   "execution_count": 123,
   "id": "bd952050",
   "metadata": {},
   "outputs": [
    {
     "data": {
      "text/plain": [
       "SimpleImputer()"
      ]
     },
     "execution_count": 123,
     "metadata": {},
     "output_type": "execute_result"
    }
   ],
   "source": [
    "imputer.fit(X_train)"
   ]
  },
  {
   "cell_type": "code",
   "execution_count": 124,
   "id": "e4b1eaec",
   "metadata": {},
   "outputs": [
    {
     "data": {
      "text/plain": [
       "array([  35.40285714, 3236.12142857,   21.04857143])"
      ]
     },
     "execution_count": 124,
     "metadata": {},
     "output_type": "execute_result"
    }
   ],
   "source": [
    "imputer.statistics_"
   ]
  },
  {
   "cell_type": "code",
   "execution_count": 125,
   "id": "336f415c",
   "metadata": {},
   "outputs": [
    {
     "data": {
      "text/plain": [
       "35.402857142857144"
      ]
     },
     "execution_count": 125,
     "metadata": {},
     "output_type": "execute_result"
    }
   ],
   "source": [
    "#conprobacion de media \n",
    "X_train['Age'].mean()"
   ]
  },
  {
   "cell_type": "code",
   "execution_count": 126,
   "id": "cb390424",
   "metadata": {},
   "outputs": [
    {
     "name": "stderr",
     "output_type": "stream",
     "text": [
      "/home/ec2-user/anaconda3/envs/python3/lib/python3.8/site-packages/sklearn/base.py:445: UserWarning: X does not have valid feature names, but SimpleImputer was fitted with feature names\n",
      "  warnings.warn(\n"
     ]
    },
    {
     "data": {
      "text/plain": [
       "array([[  24.        , 1000.        ,   21.04857143],\n",
       "       [  35.40285714, 3236.12142857,   12.        ]])"
      ]
     },
     "execution_count": 126,
     "metadata": {},
     "output_type": "execute_result"
    }
   ],
   "source": [
    "imputer.transform([[24, 1000, np.nan],\n",
    "                   [np.nan,np.nan,12]])"
   ]
  },
  {
   "cell_type": "code",
   "execution_count": 127,
   "id": "fbff1bc0",
   "metadata": {},
   "outputs": [
    {
     "data": {
      "text/plain": [
       "array([[3.100e+01, 4.473e+03, 3.600e+01],\n",
       "       [4.600e+01, 1.829e+03, 1.500e+01],\n",
       "       [2.700e+01, 7.418e+03, 6.000e+01],\n",
       "       ...,\n",
       "       [6.300e+01, 1.655e+03, 1.200e+01],\n",
       "       [4.900e+01, 2.096e+03, 1.200e+01],\n",
       "       [3.700e+01, 3.676e+03, 6.000e+00]])"
      ]
     },
     "execution_count": 127,
     "metadata": {},
     "output_type": "execute_result"
    }
   ],
   "source": [
    "imputer.fit_transform(X_train)"
   ]
  },
  {
   "cell_type": "code",
   "execution_count": 128,
   "id": "c6110e8c",
   "metadata": {},
   "outputs": [
    {
     "ename": "KeyError",
     "evalue": "\"['Saving account'] not in index\"",
     "output_type": "error",
     "traceback": [
      "\u001b[0;31m---------------------------------------------------------------------------\u001b[0m",
      "\u001b[0;31mKeyError\u001b[0m                                  Traceback (most recent call last)",
      "\u001b[0;32m/tmp/ipykernel_14701/323392541.py\u001b[0m in \u001b[0;36m<cell line: 1>\u001b[0;34m()\u001b[0m\n\u001b[0;32m----> 1\u001b[0;31m \u001b[0mjj_train\u001b[0m \u001b[0;34m=\u001b[0m \u001b[0mtrain\u001b[0m\u001b[0;34m[\u001b[0m\u001b[0;34m[\u001b[0m\u001b[0;34m\"Saving account\"\u001b[0m\u001b[0;34m,\u001b[0m \u001b[0;34m\"Checking account\"\u001b[0m\u001b[0;34m]\u001b[0m\u001b[0;34m]\u001b[0m\u001b[0;34m\u001b[0m\u001b[0;34m\u001b[0m\u001b[0m\n\u001b[0m",
      "\u001b[0;32m~/anaconda3/envs/python3/lib/python3.8/site-packages/pandas/core/frame.py\u001b[0m in \u001b[0;36m__getitem__\u001b[0;34m(self, key)\u001b[0m\n\u001b[1;32m   3462\u001b[0m             \u001b[0;32mif\u001b[0m \u001b[0mis_iterator\u001b[0m\u001b[0;34m(\u001b[0m\u001b[0mkey\u001b[0m\u001b[0;34m)\u001b[0m\u001b[0;34m:\u001b[0m\u001b[0;34m\u001b[0m\u001b[0;34m\u001b[0m\u001b[0m\n\u001b[1;32m   3463\u001b[0m                 \u001b[0mkey\u001b[0m \u001b[0;34m=\u001b[0m \u001b[0mlist\u001b[0m\u001b[0;34m(\u001b[0m\u001b[0mkey\u001b[0m\u001b[0;34m)\u001b[0m\u001b[0;34m\u001b[0m\u001b[0;34m\u001b[0m\u001b[0m\n\u001b[0;32m-> 3464\u001b[0;31m             \u001b[0mindexer\u001b[0m \u001b[0;34m=\u001b[0m \u001b[0mself\u001b[0m\u001b[0;34m.\u001b[0m\u001b[0mloc\u001b[0m\u001b[0;34m.\u001b[0m\u001b[0m_get_listlike_indexer\u001b[0m\u001b[0;34m(\u001b[0m\u001b[0mkey\u001b[0m\u001b[0;34m,\u001b[0m \u001b[0maxis\u001b[0m\u001b[0;34m=\u001b[0m\u001b[0;36m1\u001b[0m\u001b[0;34m)\u001b[0m\u001b[0;34m[\u001b[0m\u001b[0;36m1\u001b[0m\u001b[0;34m]\u001b[0m\u001b[0;34m\u001b[0m\u001b[0;34m\u001b[0m\u001b[0m\n\u001b[0m\u001b[1;32m   3465\u001b[0m \u001b[0;34m\u001b[0m\u001b[0m\n\u001b[1;32m   3466\u001b[0m         \u001b[0;31m# take() does not accept boolean indexers\u001b[0m\u001b[0;34m\u001b[0m\u001b[0;34m\u001b[0m\u001b[0;34m\u001b[0m\u001b[0m\n",
      "\u001b[0;32m~/anaconda3/envs/python3/lib/python3.8/site-packages/pandas/core/indexing.py\u001b[0m in \u001b[0;36m_get_listlike_indexer\u001b[0;34m(self, key, axis)\u001b[0m\n\u001b[1;32m   1312\u001b[0m             \u001b[0mkeyarr\u001b[0m\u001b[0;34m,\u001b[0m \u001b[0mindexer\u001b[0m\u001b[0;34m,\u001b[0m \u001b[0mnew_indexer\u001b[0m \u001b[0;34m=\u001b[0m \u001b[0max\u001b[0m\u001b[0;34m.\u001b[0m\u001b[0m_reindex_non_unique\u001b[0m\u001b[0;34m(\u001b[0m\u001b[0mkeyarr\u001b[0m\u001b[0;34m)\u001b[0m\u001b[0;34m\u001b[0m\u001b[0;34m\u001b[0m\u001b[0m\n\u001b[1;32m   1313\u001b[0m \u001b[0;34m\u001b[0m\u001b[0m\n\u001b[0;32m-> 1314\u001b[0;31m         \u001b[0mself\u001b[0m\u001b[0;34m.\u001b[0m\u001b[0m_validate_read_indexer\u001b[0m\u001b[0;34m(\u001b[0m\u001b[0mkeyarr\u001b[0m\u001b[0;34m,\u001b[0m \u001b[0mindexer\u001b[0m\u001b[0;34m,\u001b[0m \u001b[0maxis\u001b[0m\u001b[0;34m)\u001b[0m\u001b[0;34m\u001b[0m\u001b[0;34m\u001b[0m\u001b[0m\n\u001b[0m\u001b[1;32m   1315\u001b[0m \u001b[0;34m\u001b[0m\u001b[0m\n\u001b[1;32m   1316\u001b[0m         if needs_i8_conversion(ax.dtype) or isinstance(\n",
      "\u001b[0;32m~/anaconda3/envs/python3/lib/python3.8/site-packages/pandas/core/indexing.py\u001b[0m in \u001b[0;36m_validate_read_indexer\u001b[0;34m(self, key, indexer, axis)\u001b[0m\n\u001b[1;32m   1375\u001b[0m \u001b[0;34m\u001b[0m\u001b[0m\n\u001b[1;32m   1376\u001b[0m             \u001b[0mnot_found\u001b[0m \u001b[0;34m=\u001b[0m \u001b[0mlist\u001b[0m\u001b[0;34m(\u001b[0m\u001b[0mensure_index\u001b[0m\u001b[0;34m(\u001b[0m\u001b[0mkey\u001b[0m\u001b[0;34m)\u001b[0m\u001b[0;34m[\u001b[0m\u001b[0mmissing_mask\u001b[0m\u001b[0;34m.\u001b[0m\u001b[0mnonzero\u001b[0m\u001b[0;34m(\u001b[0m\u001b[0;34m)\u001b[0m\u001b[0;34m[\u001b[0m\u001b[0;36m0\u001b[0m\u001b[0;34m]\u001b[0m\u001b[0;34m]\u001b[0m\u001b[0;34m.\u001b[0m\u001b[0munique\u001b[0m\u001b[0;34m(\u001b[0m\u001b[0;34m)\u001b[0m\u001b[0;34m)\u001b[0m\u001b[0;34m\u001b[0m\u001b[0;34m\u001b[0m\u001b[0m\n\u001b[0;32m-> 1377\u001b[0;31m             \u001b[0;32mraise\u001b[0m \u001b[0mKeyError\u001b[0m\u001b[0;34m(\u001b[0m\u001b[0;34mf\"{not_found} not in index\"\u001b[0m\u001b[0;34m)\u001b[0m\u001b[0;34m\u001b[0m\u001b[0;34m\u001b[0m\u001b[0m\n\u001b[0m\u001b[1;32m   1378\u001b[0m \u001b[0;34m\u001b[0m\u001b[0m\n\u001b[1;32m   1379\u001b[0m \u001b[0;34m\u001b[0m\u001b[0m\n",
      "\u001b[0;31mKeyError\u001b[0m: \"['Saving account'] not in index\""
     ]
    }
   ],
   "source": [
    "jj_train = train[[\"Saving account\", \"Checking account\"]]"
   ]
  },
  {
   "cell_type": "code",
   "execution_count": 42,
   "id": "0d368d38",
   "metadata": {},
   "outputs": [],
   "source": [
    "from sklearn.impute import KNNImputer"
   ]
  },
  {
   "cell_type": "code",
   "execution_count": 43,
   "id": "86f13de2",
   "metadata": {},
   "outputs": [],
   "source": [
    "imputer = KNNImputer(n_neighbors=2)"
   ]
  },
  {
   "cell_type": "code",
   "execution_count": 44,
   "id": "f6ea3aaa",
   "metadata": {},
   "outputs": [
    {
     "data": {
      "text/html": [
       "<div>\n",
       "<style scoped>\n",
       "    .dataframe tbody tr th:only-of-type {\n",
       "        vertical-align: middle;\n",
       "    }\n",
       "\n",
       "    .dataframe tbody tr th {\n",
       "        vertical-align: top;\n",
       "    }\n",
       "\n",
       "    .dataframe thead th {\n",
       "        text-align: right;\n",
       "    }\n",
       "</style>\n",
       "<table border=\"1\" class=\"dataframe\">\n",
       "  <thead>\n",
       "    <tr style=\"text-align: right;\">\n",
       "      <th></th>\n",
       "      <th>Peso</th>\n",
       "      <th>Edad</th>\n",
       "      <th>NotaMl</th>\n",
       "    </tr>\n",
       "  </thead>\n",
       "  <tbody>\n",
       "    <tr>\n",
       "      <th>0</th>\n",
       "      <td>40</td>\n",
       "      <td>19</td>\n",
       "      <td>3.0</td>\n",
       "    </tr>\n",
       "    <tr>\n",
       "      <th>1</th>\n",
       "      <td>42</td>\n",
       "      <td>20</td>\n",
       "      <td>3.1</td>\n",
       "    </tr>\n",
       "    <tr>\n",
       "      <th>2</th>\n",
       "      <td>44</td>\n",
       "      <td>21</td>\n",
       "      <td>NaN</td>\n",
       "    </tr>\n",
       "    <tr>\n",
       "      <th>3</th>\n",
       "      <td>45</td>\n",
       "      <td>23</td>\n",
       "      <td>4.1</td>\n",
       "    </tr>\n",
       "    <tr>\n",
       "      <th>4</th>\n",
       "      <td>39</td>\n",
       "      <td>25</td>\n",
       "      <td>5.0</td>\n",
       "    </tr>\n",
       "    <tr>\n",
       "      <th>5</th>\n",
       "      <td>80</td>\n",
       "      <td>27</td>\n",
       "      <td>NaN</td>\n",
       "    </tr>\n",
       "    <tr>\n",
       "      <th>6</th>\n",
       "      <td>82</td>\n",
       "      <td>30</td>\n",
       "      <td>4.8</td>\n",
       "    </tr>\n",
       "  </tbody>\n",
       "</table>\n",
       "</div>"
      ],
      "text/plain": [
       "   Peso  Edad  NotaMl\n",
       "0    40    19     3.0\n",
       "1    42    20     3.1\n",
       "2    44    21     NaN\n",
       "3    45    23     4.1\n",
       "4    39    25     5.0\n",
       "5    80    27     NaN\n",
       "6    82    30     4.8"
      ]
     },
     "execution_count": 44,
     "metadata": {},
     "output_type": "execute_result"
    }
   ],
   "source": [
    "datos = [[40, 19, 3.],\n",
    "         [42, 20, 3.1],\n",
    "         [44, 21],\n",
    "         [45, 23, 4.1],\n",
    "         [39, 25, 5.0],\n",
    "         [80, 27],\n",
    "         [82, 30, 4.8]]\n",
    "columnas = ['Peso', 'Edad', 'NotaMl']\n",
    "df3 = pd.DataFrame(datos, columns=columnas)\n",
    "df3"
   ]
  },
  {
   "cell_type": "code",
   "execution_count": 45,
   "id": "86199b4c",
   "metadata": {},
   "outputs": [
    {
     "data": {
      "text/plain": [
       "array([[40.  , 19.  ,  3.  ],\n",
       "       [42.  , 20.  ,  3.1 ],\n",
       "       [44.  , 21.  ,  3.6 ],\n",
       "       [45.  , 23.  ,  4.1 ],\n",
       "       [39.  , 25.  ,  5.  ],\n",
       "       [80.  , 27.  ,  4.45],\n",
       "       [82.  , 30.  ,  4.8 ]])"
      ]
     },
     "execution_count": 45,
     "metadata": {},
     "output_type": "execute_result"
    }
   ],
   "source": [
    "imputer.fit_transform(df3)"
   ]
  },
  {
   "cell_type": "markdown",
   "id": "9d653ffc",
   "metadata": {},
   "source": [
    "## Escalado"
   ]
  },
  {
   "cell_type": "code",
   "execution_count": 46,
   "id": "118686b5",
   "metadata": {},
   "outputs": [],
   "source": [
    "from sklearn.preprocessing import StandardScaler, RobustScaler, MinMaxScaler"
   ]
  },
  {
   "cell_type": "code",
   "execution_count": 47,
   "id": "5995e417",
   "metadata": {},
   "outputs": [
    {
     "data": {
      "text/plain": [
       "StandardScaler()"
      ]
     },
     "execution_count": 47,
     "metadata": {},
     "output_type": "execute_result"
    }
   ],
   "source": [
    "scaler = StandardScaler()\n",
    "scaler.fit(X_train[[\"Age\"]])"
   ]
  },
  {
   "cell_type": "code",
   "execution_count": 48,
   "id": "3e5b62c6",
   "metadata": {},
   "outputs": [
    {
     "data": {
      "text/plain": [
       "array([35.40285714])"
      ]
     },
     "execution_count": 48,
     "metadata": {},
     "output_type": "execute_result"
    }
   ],
   "source": [
    "scaler.mean_"
   ]
  },
  {
   "cell_type": "code",
   "execution_count": 49,
   "id": "b4a75122",
   "metadata": {},
   "outputs": [
    {
     "data": {
      "text/plain": [
       "array([11.23479253])"
      ]
     },
     "execution_count": 49,
     "metadata": {},
     "output_type": "execute_result"
    }
   ],
   "source": [
    "scaler.var_**0.5"
   ]
  },
  {
   "cell_type": "code",
   "execution_count": 50,
   "id": "dd39b190",
   "metadata": {},
   "outputs": [
    {
     "data": {
      "text/plain": [
       "array([[-0.39189483],\n",
       "       [ 0.94324331],\n",
       "       [-0.74793167],\n",
       "       [-0.74793167],\n",
       "       [-0.74793167],\n",
       "       [ 0.05315121],\n",
       "       [-0.035858  ],\n",
       "       [-1.0149593 ],\n",
       "       [-0.48090404],\n",
       "       [ 1.12126173],\n",
       "       [-0.48090404],\n",
       "       [-1.28198693],\n",
       "       [ 1.65531698],\n",
       "       [-1.10396851],\n",
       "       [-0.65892246],\n",
       "       [-0.65892246],\n",
       "       [ 1.29928014],\n",
       "       [ 1.03225252],\n",
       "       [-0.74793167],\n",
       "       [ 1.8333354 ],\n",
       "       [ 2.27838145],\n",
       "       [ 1.12126173],\n",
       "       [-0.21387641],\n",
       "       [-0.83694088],\n",
       "       [ 0.58720647],\n",
       "       [ 1.03225252],\n",
       "       [-0.74793167],\n",
       "       [ 1.38828935],\n",
       "       [-0.74793167],\n",
       "       [-0.035858  ],\n",
       "       [ 2.27838145],\n",
       "       [ 1.74432619],\n",
       "       [ 0.23116963],\n",
       "       [ 0.32017884],\n",
       "       [ 0.05315121],\n",
       "       [-0.65892246],\n",
       "       [-0.92595009],\n",
       "       [-0.035858  ],\n",
       "       [ 1.38828935],\n",
       "       [ 0.23116963],\n",
       "       [ 0.05315121],\n",
       "       [-1.10396851],\n",
       "       [-0.39189483],\n",
       "       [-0.92595009],\n",
       "       [ 0.40918805],\n",
       "       [-0.56991325],\n",
       "       [ 1.21027093],\n",
       "       [-0.65892246],\n",
       "       [-0.12486721],\n",
       "       [-0.74793167],\n",
       "       [ 0.94324331],\n",
       "       [ 0.32017884],\n",
       "       [-1.37099614],\n",
       "       [ 0.40918805],\n",
       "       [-0.56991325],\n",
       "       [-0.83694088],\n",
       "       [ 1.56630777],\n",
       "       [-1.19297772],\n",
       "       [-0.39189483],\n",
       "       [-0.48090404],\n",
       "       [ 0.05315121],\n",
       "       [ 1.47729856],\n",
       "       [ 0.67621568],\n",
       "       [-0.56991325],\n",
       "       [-0.035858  ],\n",
       "       [ 0.94324331],\n",
       "       [-1.0149593 ],\n",
       "       [ 0.23116963],\n",
       "       [-0.30288562],\n",
       "       [ 0.8542341 ],\n",
       "       [ 0.40918805],\n",
       "       [-0.30288562],\n",
       "       [ 0.58720647],\n",
       "       [ 1.29928014],\n",
       "       [-0.83694088],\n",
       "       [-1.0149593 ],\n",
       "       [ 0.58720647],\n",
       "       [ 1.29928014],\n",
       "       [ 0.14216042],\n",
       "       [-0.65892246],\n",
       "       [-0.035858  ],\n",
       "       [-0.65892246],\n",
       "       [-0.39189483],\n",
       "       [-1.37099614],\n",
       "       [-0.74793167],\n",
       "       [-0.30288562],\n",
       "       [ 1.74432619],\n",
       "       [ 0.49819726],\n",
       "       [ 0.76522489],\n",
       "       [-0.035858  ],\n",
       "       [-0.56991325],\n",
       "       [-0.65892246],\n",
       "       [-0.92595009],\n",
       "       [-0.56991325],\n",
       "       [-0.30288562],\n",
       "       [-0.30288562],\n",
       "       [ 0.58720647],\n",
       "       [ 0.58720647],\n",
       "       [-0.56991325],\n",
       "       [-0.83694088],\n",
       "       [-0.30288562],\n",
       "       [ 0.32017884],\n",
       "       [-0.035858  ],\n",
       "       [-1.19297772],\n",
       "       [-0.21387641],\n",
       "       [-1.0149593 ],\n",
       "       [ 0.23116963],\n",
       "       [-0.74793167],\n",
       "       [-0.74793167],\n",
       "       [-0.39189483],\n",
       "       [-1.0149593 ],\n",
       "       [ 0.32017884],\n",
       "       [-0.83694088],\n",
       "       [ 0.23116963],\n",
       "       [ 0.05315121],\n",
       "       [-0.21387641],\n",
       "       [-0.74793167],\n",
       "       [-0.035858  ],\n",
       "       [ 2.18937224],\n",
       "       [ 0.32017884],\n",
       "       [-0.035858  ],\n",
       "       [-0.48090404],\n",
       "       [-0.12486721],\n",
       "       [ 0.49819726],\n",
       "       [-0.65892246],\n",
       "       [-0.92595009],\n",
       "       [ 0.8542341 ],\n",
       "       [-0.12486721],\n",
       "       [-0.92595009],\n",
       "       [-1.0149593 ],\n",
       "       [ 1.03225252],\n",
       "       [-0.12486721],\n",
       "       [-0.48090404],\n",
       "       [-0.21387641],\n",
       "       [ 0.14216042],\n",
       "       [-0.21387641],\n",
       "       [-0.21387641],\n",
       "       [-1.0149593 ],\n",
       "       [ 2.27838145],\n",
       "       [ 0.05315121],\n",
       "       [-1.19297772],\n",
       "       [-0.74793167],\n",
       "       [ 0.23116963],\n",
       "       [-1.0149593 ],\n",
       "       [-0.83694088],\n",
       "       [ 1.03225252],\n",
       "       [-1.10396851],\n",
       "       [-0.21387641],\n",
       "       [ 1.74432619],\n",
       "       [-0.12486721],\n",
       "       [ 0.67621568],\n",
       "       [-0.74793167],\n",
       "       [-0.74793167],\n",
       "       [ 0.76522489],\n",
       "       [-1.10396851],\n",
       "       [ 1.38828935],\n",
       "       [-0.83694088],\n",
       "       [ 0.94324331],\n",
       "       [-1.0149593 ],\n",
       "       [ 0.8542341 ],\n",
       "       [ 0.32017884],\n",
       "       [-0.39189483],\n",
       "       [ 1.12126173],\n",
       "       [ 0.14216042],\n",
       "       [-1.10396851],\n",
       "       [-0.12486721],\n",
       "       [ 0.76522489],\n",
       "       [ 0.67621568],\n",
       "       [-1.10396851],\n",
       "       [-0.48090404],\n",
       "       [-0.56991325],\n",
       "       [-0.56991325],\n",
       "       [-1.19297772],\n",
       "       [ 1.74432619],\n",
       "       [ 2.18937224],\n",
       "       [ 0.14216042],\n",
       "       [ 2.18937224],\n",
       "       [-0.48090404],\n",
       "       [ 0.49819726],\n",
       "       [ 0.40918805],\n",
       "       [ 2.72342749],\n",
       "       [-0.92595009],\n",
       "       [-0.12486721],\n",
       "       [-1.10396851],\n",
       "       [ 0.32017884],\n",
       "       [ 0.32017884],\n",
       "       [-0.56991325],\n",
       "       [ 0.40918805],\n",
       "       [ 1.56630777],\n",
       "       [-0.035858  ],\n",
       "       [-1.10396851],\n",
       "       [ 0.32017884],\n",
       "       [ 1.03225252],\n",
       "       [-0.56991325],\n",
       "       [ 0.49819726],\n",
       "       [-1.0149593 ],\n",
       "       [-0.83694088],\n",
       "       [ 1.12126173],\n",
       "       [ 0.14216042],\n",
       "       [-0.92595009],\n",
       "       [-1.0149593 ],\n",
       "       [ 1.21027093],\n",
       "       [-0.92595009],\n",
       "       [ 0.05315121],\n",
       "       [ 0.32017884],\n",
       "       [ 0.76522489],\n",
       "       [ 2.72342749],\n",
       "       [ 0.40918805],\n",
       "       [ 0.14216042],\n",
       "       [ 2.36739066],\n",
       "       [-0.65892246],\n",
       "       [ 1.92234461],\n",
       "       [-1.0149593 ],\n",
       "       [ 0.58720647],\n",
       "       [-0.21387641],\n",
       "       [ 0.32017884],\n",
       "       [-0.12486721],\n",
       "       [ 0.76522489],\n",
       "       [-0.65892246],\n",
       "       [ 2.45639986],\n",
       "       [-0.39189483],\n",
       "       [-1.0149593 ],\n",
       "       [-0.035858  ],\n",
       "       [-0.035858  ],\n",
       "       [-0.92595009],\n",
       "       [ 1.65531698],\n",
       "       [-0.21387641],\n",
       "       [-0.035858  ],\n",
       "       [-0.30288562],\n",
       "       [-0.39189483],\n",
       "       [-0.65892246],\n",
       "       [ 2.90144591],\n",
       "       [ 1.56630777],\n",
       "       [-0.30288562],\n",
       "       [ 0.40918805],\n",
       "       [-1.37099614],\n",
       "       [-1.10396851],\n",
       "       [ 1.92234461],\n",
       "       [ 2.63441828],\n",
       "       [ 0.8542341 ],\n",
       "       [-0.92595009],\n",
       "       [-0.74793167],\n",
       "       [ 1.29928014],\n",
       "       [ 2.10036303],\n",
       "       [-1.10396851],\n",
       "       [ 0.40918805],\n",
       "       [-0.92595009],\n",
       "       [-1.10396851],\n",
       "       [-0.48090404],\n",
       "       [-0.92595009],\n",
       "       [-0.39189483],\n",
       "       [-0.48090404],\n",
       "       [ 0.40918805],\n",
       "       [ 1.92234461],\n",
       "       [-0.92595009],\n",
       "       [-1.28198693],\n",
       "       [ 0.49819726],\n",
       "       [-0.035858  ],\n",
       "       [-0.74793167],\n",
       "       [ 0.32017884],\n",
       "       [-1.10396851],\n",
       "       [ 0.32017884],\n",
       "       [ 1.29928014],\n",
       "       [ 1.47729856],\n",
       "       [ 0.67621568],\n",
       "       [-1.0149593 ],\n",
       "       [-0.92595009],\n",
       "       [-1.10396851],\n",
       "       [-1.19297772],\n",
       "       [ 0.49819726],\n",
       "       [-0.48090404],\n",
       "       [-1.10396851],\n",
       "       [-0.12486721],\n",
       "       [-0.12486721],\n",
       "       [-0.39189483],\n",
       "       [ 0.40918805],\n",
       "       [-0.56991325],\n",
       "       [-0.65892246],\n",
       "       [ 2.18937224],\n",
       "       [ 1.56630777],\n",
       "       [-1.0149593 ],\n",
       "       [ 0.05315121],\n",
       "       [ 0.76522489],\n",
       "       [ 2.72342749],\n",
       "       [-0.48090404],\n",
       "       [ 2.54540907],\n",
       "       [-0.30288562],\n",
       "       [-1.28198693],\n",
       "       [-0.65892246],\n",
       "       [-0.48090404],\n",
       "       [ 0.40918805],\n",
       "       [-0.83694088],\n",
       "       [-0.48090404],\n",
       "       [ 0.8542341 ],\n",
       "       [-1.0149593 ],\n",
       "       [ 0.67621568],\n",
       "       [-1.37099614],\n",
       "       [-0.30288562],\n",
       "       [-1.37099614],\n",
       "       [-0.92595009],\n",
       "       [-1.10396851],\n",
       "       [-0.48090404],\n",
       "       [-1.10396851],\n",
       "       [ 0.14216042],\n",
       "       [-0.48090404],\n",
       "       [-0.12486721],\n",
       "       [ 0.94324331],\n",
       "       [-1.0149593 ],\n",
       "       [ 1.8333354 ],\n",
       "       [-0.74793167],\n",
       "       [-1.19297772],\n",
       "       [-0.035858  ],\n",
       "       [ 1.21027093],\n",
       "       [-0.83694088],\n",
       "       [-0.30288562],\n",
       "       [-0.65892246],\n",
       "       [-0.12486721],\n",
       "       [ 0.94324331],\n",
       "       [ 0.05315121],\n",
       "       [-0.21387641],\n",
       "       [-0.39189483],\n",
       "       [-0.30288562],\n",
       "       [-0.83694088],\n",
       "       [-0.21387641],\n",
       "       [ 0.58720647],\n",
       "       [ 0.8542341 ],\n",
       "       [ 0.67621568],\n",
       "       [-0.30288562],\n",
       "       [ 0.14216042],\n",
       "       [-0.30288562],\n",
       "       [-0.21387641],\n",
       "       [-0.83694088],\n",
       "       [-1.37099614],\n",
       "       [ 0.94324331],\n",
       "       [ 0.76522489],\n",
       "       [-0.74793167],\n",
       "       [-0.65892246],\n",
       "       [-1.10396851],\n",
       "       [-0.74793167],\n",
       "       [ 1.12126173],\n",
       "       [-0.65892246],\n",
       "       [ 0.67621568],\n",
       "       [-0.65892246],\n",
       "       [-1.10396851],\n",
       "       [-0.83694088],\n",
       "       [-0.21387641],\n",
       "       [-0.74793167],\n",
       "       [-0.56991325],\n",
       "       [-0.12486721],\n",
       "       [-0.48090404],\n",
       "       [-0.30288562],\n",
       "       [-0.21387641],\n",
       "       [-0.035858  ],\n",
       "       [-0.92595009],\n",
       "       [-0.83694088],\n",
       "       [-0.39189483],\n",
       "       [ 0.40918805],\n",
       "       [ 1.38828935],\n",
       "       [-0.83694088],\n",
       "       [ 0.14216042],\n",
       "       [-0.48090404],\n",
       "       [ 0.23116963],\n",
       "       [ 2.27838145],\n",
       "       [-1.10396851],\n",
       "       [-1.28198693],\n",
       "       [ 0.58720647],\n",
       "       [-0.30288562],\n",
       "       [ 0.40918805],\n",
       "       [ 2.45639986],\n",
       "       [-0.56991325],\n",
       "       [-0.39189483],\n",
       "       [ 0.05315121],\n",
       "       [-0.83694088],\n",
       "       [-0.83694088],\n",
       "       [-0.30288562],\n",
       "       [ 0.58720647],\n",
       "       [ 2.10036303],\n",
       "       [-0.65892246],\n",
       "       [-0.30288562],\n",
       "       [-0.92595009],\n",
       "       [ 3.43550117],\n",
       "       [-0.74793167],\n",
       "       [-1.0149593 ],\n",
       "       [ 0.14216042],\n",
       "       [-1.28198693],\n",
       "       [-1.0149593 ],\n",
       "       [-1.19297772],\n",
       "       [ 0.94324331],\n",
       "       [ 0.40918805],\n",
       "       [ 1.12126173],\n",
       "       [ 0.23116963],\n",
       "       [ 0.76522489],\n",
       "       [ 0.40918805],\n",
       "       [-0.56991325],\n",
       "       [-1.0149593 ],\n",
       "       [-1.19297772],\n",
       "       [-0.92595009],\n",
       "       [-0.48090404],\n",
       "       [-0.74793167],\n",
       "       [ 0.76522489],\n",
       "       [-0.83694088],\n",
       "       [-1.10396851],\n",
       "       [-0.39189483],\n",
       "       [-0.74793167],\n",
       "       [-0.48090404],\n",
       "       [-0.30288562],\n",
       "       [-0.39189483],\n",
       "       [ 1.47729856],\n",
       "       [-0.92595009],\n",
       "       [ 0.23116963],\n",
       "       [ 0.05315121],\n",
       "       [-0.83694088],\n",
       "       [-1.10396851],\n",
       "       [ 0.58720647],\n",
       "       [-0.56991325],\n",
       "       [ 0.05315121],\n",
       "       [ 2.36739066],\n",
       "       [ 2.01135382],\n",
       "       [ 0.94324331],\n",
       "       [ 1.03225252],\n",
       "       [-0.39189483],\n",
       "       [-0.92595009],\n",
       "       [-0.48090404],\n",
       "       [ 2.54540907],\n",
       "       [ 0.49819726],\n",
       "       [-0.56991325],\n",
       "       [ 2.90144591],\n",
       "       [-0.83694088],\n",
       "       [ 2.72342749],\n",
       "       [-1.0149593 ],\n",
       "       [ 3.07946433],\n",
       "       [ 1.65531698],\n",
       "       [-1.10396851],\n",
       "       [-0.035858  ],\n",
       "       [-0.65892246],\n",
       "       [ 0.14216042],\n",
       "       [-0.74793167],\n",
       "       [ 0.8542341 ],\n",
       "       [-0.83694088],\n",
       "       [-0.74793167],\n",
       "       [-1.10396851],\n",
       "       [-1.0149593 ],\n",
       "       [ 0.40918805],\n",
       "       [-0.30288562],\n",
       "       [-0.83694088],\n",
       "       [ 0.40918805],\n",
       "       [-1.19297772],\n",
       "       [-0.74793167],\n",
       "       [-0.12486721],\n",
       "       [ 0.05315121],\n",
       "       [ 1.03225252],\n",
       "       [ 0.76522489],\n",
       "       [-0.74793167],\n",
       "       [-0.39189483],\n",
       "       [ 1.03225252],\n",
       "       [-1.10396851],\n",
       "       [-0.035858  ],\n",
       "       [-0.30288562],\n",
       "       [-0.035858  ],\n",
       "       [-0.74793167],\n",
       "       [-0.65892246],\n",
       "       [-0.92595009],\n",
       "       [-0.56991325],\n",
       "       [ 0.94324331],\n",
       "       [ 0.23116963],\n",
       "       [ 0.58720647],\n",
       "       [ 1.21027093],\n",
       "       [-1.10396851],\n",
       "       [ 1.29928014],\n",
       "       [ 0.8542341 ],\n",
       "       [ 2.01135382],\n",
       "       [ 3.52451038],\n",
       "       [ 0.76522489],\n",
       "       [ 0.23116963],\n",
       "       [-0.30288562],\n",
       "       [-0.48090404],\n",
       "       [-1.10396851],\n",
       "       [-0.65892246],\n",
       "       [ 1.29928014],\n",
       "       [-0.74793167],\n",
       "       [ 1.47729856],\n",
       "       [ 2.27838145],\n",
       "       [-0.21387641],\n",
       "       [-1.19297772],\n",
       "       [-1.19297772],\n",
       "       [ 2.45639986],\n",
       "       [-0.74793167],\n",
       "       [-0.92595009],\n",
       "       [ 0.58720647],\n",
       "       [-0.035858  ],\n",
       "       [-0.92595009],\n",
       "       [-1.0149593 ],\n",
       "       [-0.65892246],\n",
       "       [-1.37099614],\n",
       "       [-0.30288562],\n",
       "       [ 2.45639986],\n",
       "       [ 0.8542341 ],\n",
       "       [ 2.18937224],\n",
       "       [-0.48090404],\n",
       "       [-0.39189483],\n",
       "       [ 0.49819726],\n",
       "       [ 1.65531698],\n",
       "       [-1.19297772],\n",
       "       [-0.74793167],\n",
       "       [-0.035858  ],\n",
       "       [-1.0149593 ],\n",
       "       [-0.39189483],\n",
       "       [-0.83694088],\n",
       "       [-0.74793167],\n",
       "       [-1.10396851],\n",
       "       [ 0.67621568],\n",
       "       [-0.39189483],\n",
       "       [-1.28198693],\n",
       "       [ 0.05315121],\n",
       "       [-0.65892246],\n",
       "       [ 0.05315121],\n",
       "       [-1.0149593 ],\n",
       "       [ 0.23116963],\n",
       "       [ 0.23116963],\n",
       "       [ 0.23116963],\n",
       "       [-0.74793167],\n",
       "       [ 0.23116963],\n",
       "       [-0.21387641],\n",
       "       [-1.19297772],\n",
       "       [-0.035858  ],\n",
       "       [ 0.94324331],\n",
       "       [-0.12486721],\n",
       "       [-1.19297772],\n",
       "       [ 0.94324331],\n",
       "       [-1.19297772],\n",
       "       [-0.83694088],\n",
       "       [-0.92595009],\n",
       "       [ 1.92234461],\n",
       "       [-0.83694088],\n",
       "       [ 1.65531698],\n",
       "       [-0.83694088],\n",
       "       [-0.48090404],\n",
       "       [-0.74793167],\n",
       "       [-0.65892246],\n",
       "       [-0.30288562],\n",
       "       [-1.0149593 ],\n",
       "       [ 2.10036303],\n",
       "       [-1.0149593 ],\n",
       "       [ 0.14216042],\n",
       "       [-0.92595009],\n",
       "       [-0.035858  ],\n",
       "       [-0.83694088],\n",
       "       [-0.48090404],\n",
       "       [ 0.58720647],\n",
       "       [ 2.01135382],\n",
       "       [-0.12486721],\n",
       "       [-0.74793167],\n",
       "       [-0.12486721],\n",
       "       [-1.19297772],\n",
       "       [-1.19297772],\n",
       "       [-0.035858  ],\n",
       "       [ 0.94324331],\n",
       "       [ 0.32017884],\n",
       "       [ 0.67621568],\n",
       "       [ 1.21027093],\n",
       "       [-0.92595009],\n",
       "       [-1.28198693],\n",
       "       [-0.39189483],\n",
       "       [-1.0149593 ],\n",
       "       [-0.21387641],\n",
       "       [ 0.67621568],\n",
       "       [ 1.03225252],\n",
       "       [ 1.03225252],\n",
       "       [-0.39189483],\n",
       "       [ 0.05315121],\n",
       "       [ 0.49819726],\n",
       "       [-0.48090404],\n",
       "       [ 2.72342749],\n",
       "       [-0.035858  ],\n",
       "       [ 0.58720647],\n",
       "       [-0.12486721],\n",
       "       [ 0.49819726],\n",
       "       [-0.83694088],\n",
       "       [-1.19297772],\n",
       "       [ 0.05315121],\n",
       "       [ 0.14216042],\n",
       "       [ 0.23116963],\n",
       "       [-1.10396851],\n",
       "       [ 0.94324331],\n",
       "       [ 0.05315121],\n",
       "       [ 0.14216042],\n",
       "       [-0.48090404],\n",
       "       [-1.19297772],\n",
       "       [ 0.14216042],\n",
       "       [ 0.23116963],\n",
       "       [-0.21387641],\n",
       "       [ 0.05315121],\n",
       "       [-0.83694088],\n",
       "       [-0.65892246],\n",
       "       [ 0.23116963],\n",
       "       [-0.39189483],\n",
       "       [ 0.58720647],\n",
       "       [ 1.38828935],\n",
       "       [-0.21387641],\n",
       "       [-0.30288562],\n",
       "       [-0.12486721],\n",
       "       [-0.74793167],\n",
       "       [-0.12486721],\n",
       "       [ 1.21027093],\n",
       "       [-0.83694088],\n",
       "       [ 0.14216042],\n",
       "       [-0.92595009],\n",
       "       [ 0.05315121],\n",
       "       [-0.74793167],\n",
       "       [ 0.49819726],\n",
       "       [-0.74793167],\n",
       "       [-0.21387641],\n",
       "       [-0.21387641],\n",
       "       [ 1.12126173],\n",
       "       [-0.65892246],\n",
       "       [-0.92595009],\n",
       "       [-1.10396851],\n",
       "       [-0.56991325],\n",
       "       [-0.21387641],\n",
       "       [-0.65892246],\n",
       "       [-0.74793167],\n",
       "       [-1.0149593 ],\n",
       "       [-0.12486721],\n",
       "       [-1.19297772],\n",
       "       [ 0.14216042],\n",
       "       [-0.65892246],\n",
       "       [ 0.67621568],\n",
       "       [-1.28198693],\n",
       "       [-1.10396851],\n",
       "       [-1.19297772],\n",
       "       [-0.39189483],\n",
       "       [-0.65892246],\n",
       "       [ 0.58720647],\n",
       "       [ 1.29928014],\n",
       "       [-0.12486721],\n",
       "       [ 2.63441828],\n",
       "       [ 1.74432619],\n",
       "       [ 2.54540907],\n",
       "       [ 0.67621568],\n",
       "       [-0.56991325],\n",
       "       [ 1.29928014],\n",
       "       [-0.39189483],\n",
       "       [-0.56991325],\n",
       "       [-0.30288562],\n",
       "       [-0.21387641],\n",
       "       [-1.37099614],\n",
       "       [-0.56991325],\n",
       "       [-0.56991325],\n",
       "       [-1.37099614],\n",
       "       [-0.035858  ],\n",
       "       [ 1.21027093],\n",
       "       [-0.56991325],\n",
       "       [-0.39189483],\n",
       "       [-0.92595009],\n",
       "       [-0.035858  ],\n",
       "       [-0.65892246],\n",
       "       [-1.37099614],\n",
       "       [ 1.21027093],\n",
       "       [ 2.90144591],\n",
       "       [-1.10396851],\n",
       "       [-0.56991325],\n",
       "       [-0.30288562],\n",
       "       [-0.48090404],\n",
       "       [ 0.32017884],\n",
       "       [ 2.63441828],\n",
       "       [ 0.40918805],\n",
       "       [ 0.76522489],\n",
       "       [-0.56991325],\n",
       "       [ 2.8124367 ],\n",
       "       [-1.37099614],\n",
       "       [-0.12486721],\n",
       "       [-0.48090404],\n",
       "       [-0.48090404],\n",
       "       [-1.10396851],\n",
       "       [ 1.21027093],\n",
       "       [-0.74793167],\n",
       "       [ 1.21027093],\n",
       "       [-0.035858  ],\n",
       "       [ 1.12126173],\n",
       "       [ 1.74432619],\n",
       "       [-1.19297772],\n",
       "       [ 0.40918805],\n",
       "       [-0.56991325],\n",
       "       [ 3.52451038],\n",
       "       [ 0.14216042],\n",
       "       [ 1.47729856],\n",
       "       [-0.65892246],\n",
       "       [ 2.01135382],\n",
       "       [-0.12486721],\n",
       "       [-0.48090404],\n",
       "       [ 0.14216042],\n",
       "       [-0.65892246],\n",
       "       [-0.83694088],\n",
       "       [ 0.05315121],\n",
       "       [ 0.14216042],\n",
       "       [ 0.49819726],\n",
       "       [-0.65892246],\n",
       "       [ 2.45639986],\n",
       "       [ 1.21027093],\n",
       "       [ 0.14216042]])"
      ]
     },
     "execution_count": 50,
     "metadata": {},
     "output_type": "execute_result"
    }
   ],
   "source": [
    "scaler.transform(X_train[['Age']])"
   ]
  },
  {
   "cell_type": "code",
   "execution_count": 51,
   "id": "c08b3515",
   "metadata": {},
   "outputs": [
    {
     "data": {
      "text/plain": [
       "array([[75.00000004]])"
      ]
     },
     "execution_count": 51,
     "metadata": {},
     "output_type": "execute_result"
    }
   ],
   "source": [
    "scaler.inverse_transform([[3.52451038]])"
   ]
  },
  {
   "cell_type": "code",
   "execution_count": 52,
   "id": "99edc359",
   "metadata": {},
   "outputs": [],
   "source": [
    "transformer = RobustScaler().fit(X_train)"
   ]
  },
  {
   "cell_type": "code",
   "execution_count": 53,
   "id": "65b7c40a",
   "metadata": {},
   "outputs": [
    {
     "data": {
      "text/plain": [
       "RobustScaler()"
      ]
     },
     "execution_count": 53,
     "metadata": {},
     "output_type": "execute_result"
    }
   ],
   "source": [
    "transformer"
   ]
  },
  {
   "cell_type": "code",
   "execution_count": 54,
   "id": "63e614c5",
   "metadata": {},
   "outputs": [
    {
     "data": {
      "text/plain": [
       "array([[-0.14035088,  0.83027479,  1.5       ],\n",
       "       [ 0.9122807 , -0.17533517, -0.25      ],\n",
       "       [-0.42105263,  1.95036607,  3.5       ],\n",
       "       ...,\n",
       "       [ 2.10526316, -0.24151374, -0.5       ],\n",
       "       [ 1.12280702, -0.0737853 , -0.5       ],\n",
       "       [ 0.28070175,  0.52714652, -1.        ]])"
      ]
     },
     "execution_count": 54,
     "metadata": {},
     "output_type": "execute_result"
    }
   ],
   "source": [
    "transformer.transform(X_train)"
   ]
  },
  {
   "cell_type": "code",
   "execution_count": 55,
   "id": "27afec25",
   "metadata": {},
   "outputs": [
    {
     "data": {
      "text/plain": [
       "33.0"
      ]
     },
     "execution_count": 55,
     "metadata": {},
     "output_type": "execute_result"
    }
   ],
   "source": [
    "X_train[\"Age\"].quantile(0.5)"
   ]
  },
  {
   "cell_type": "code",
   "execution_count": 56,
   "id": "2b95650f",
   "metadata": {},
   "outputs": [
    {
     "data": {
      "text/plain": [
       "33.0"
      ]
     },
     "execution_count": 56,
     "metadata": {},
     "output_type": "execute_result"
    }
   ],
   "source": [
    "X_train[\"Age\"].median()"
   ]
  },
  {
   "cell_type": "code",
   "execution_count": 57,
   "id": "1f192ecf",
   "metadata": {},
   "outputs": [
    {
     "data": {
      "text/plain": [
       "35.402857142857144"
      ]
     },
     "execution_count": 57,
     "metadata": {},
     "output_type": "execute_result"
    }
   ],
   "source": [
    "X_train[\"Age\"].mean()"
   ]
  },
  {
   "cell_type": "code",
   "execution_count": 58,
   "id": "fab2c097",
   "metadata": {},
   "outputs": [],
   "source": [
    "from sklearn.preprocessing import OneHotEncoder"
   ]
  },
  {
   "cell_type": "code",
   "execution_count": 59,
   "id": "cdd7f607",
   "metadata": {},
   "outputs": [
    {
     "data": {
      "text/plain": [
       "array([[1.],\n",
       "       [1.],\n",
       "       [1.],\n",
       "       [0.],\n",
       "       [0.],\n",
       "       [1.],\n",
       "       [1.],\n",
       "       [1.],\n",
       "       [1.],\n",
       "       [0.],\n",
       "       [1.],\n",
       "       [1.],\n",
       "       [0.],\n",
       "       [1.],\n",
       "       [0.],\n",
       "       [1.],\n",
       "       [1.],\n",
       "       [0.],\n",
       "       [1.],\n",
       "       [1.],\n",
       "       [0.],\n",
       "       [1.],\n",
       "       [1.],\n",
       "       [1.],\n",
       "       [0.],\n",
       "       [1.],\n",
       "       [0.],\n",
       "       [1.],\n",
       "       [0.],\n",
       "       [1.],\n",
       "       [1.],\n",
       "       [0.],\n",
       "       [1.],\n",
       "       [1.],\n",
       "       [1.],\n",
       "       [1.],\n",
       "       [0.],\n",
       "       [1.],\n",
       "       [1.],\n",
       "       [1.],\n",
       "       [1.],\n",
       "       [1.],\n",
       "       [1.],\n",
       "       [0.],\n",
       "       [1.],\n",
       "       [0.],\n",
       "       [0.],\n",
       "       [1.],\n",
       "       [1.],\n",
       "       [1.],\n",
       "       [1.],\n",
       "       [1.],\n",
       "       [0.],\n",
       "       [1.],\n",
       "       [1.],\n",
       "       [0.],\n",
       "       [1.],\n",
       "       [1.],\n",
       "       [1.],\n",
       "       [1.],\n",
       "       [1.],\n",
       "       [1.],\n",
       "       [1.],\n",
       "       [1.],\n",
       "       [1.],\n",
       "       [0.],\n",
       "       [0.],\n",
       "       [1.],\n",
       "       [1.],\n",
       "       [1.],\n",
       "       [1.],\n",
       "       [1.],\n",
       "       [1.],\n",
       "       [1.],\n",
       "       [0.],\n",
       "       [1.],\n",
       "       [1.],\n",
       "       [0.],\n",
       "       [0.],\n",
       "       [1.],\n",
       "       [1.],\n",
       "       [1.],\n",
       "       [1.],\n",
       "       [0.],\n",
       "       [1.],\n",
       "       [0.],\n",
       "       [1.],\n",
       "       [1.],\n",
       "       [1.],\n",
       "       [1.],\n",
       "       [1.],\n",
       "       [0.],\n",
       "       [1.],\n",
       "       [0.],\n",
       "       [0.],\n",
       "       [1.],\n",
       "       [1.],\n",
       "       [1.],\n",
       "       [1.],\n",
       "       [1.],\n",
       "       [1.],\n",
       "       [1.],\n",
       "       [0.],\n",
       "       [1.],\n",
       "       [1.],\n",
       "       [0.],\n",
       "       [1.],\n",
       "       [1.],\n",
       "       [1.],\n",
       "       [1.],\n",
       "       [0.],\n",
       "       [0.],\n",
       "       [1.],\n",
       "       [1.],\n",
       "       [1.],\n",
       "       [1.],\n",
       "       [1.],\n",
       "       [1.],\n",
       "       [1.],\n",
       "       [1.],\n",
       "       [0.],\n",
       "       [1.],\n",
       "       [0.],\n",
       "       [1.],\n",
       "       [0.],\n",
       "       [1.],\n",
       "       [0.],\n",
       "       [1.],\n",
       "       [0.],\n",
       "       [0.],\n",
       "       [1.],\n",
       "       [0.],\n",
       "       [1.],\n",
       "       [1.],\n",
       "       [1.],\n",
       "       [0.],\n",
       "       [1.],\n",
       "       [1.],\n",
       "       [1.],\n",
       "       [1.],\n",
       "       [0.],\n",
       "       [0.],\n",
       "       [1.],\n",
       "       [0.],\n",
       "       [0.],\n",
       "       [1.],\n",
       "       [0.],\n",
       "       [0.],\n",
       "       [0.],\n",
       "       [1.],\n",
       "       [1.],\n",
       "       [1.],\n",
       "       [1.],\n",
       "       [1.],\n",
       "       [1.],\n",
       "       [1.],\n",
       "       [0.],\n",
       "       [1.],\n",
       "       [1.],\n",
       "       [0.],\n",
       "       [0.],\n",
       "       [1.],\n",
       "       [1.],\n",
       "       [1.],\n",
       "       [1.],\n",
       "       [0.],\n",
       "       [1.],\n",
       "       [1.],\n",
       "       [0.],\n",
       "       [1.],\n",
       "       [0.],\n",
       "       [1.],\n",
       "       [0.],\n",
       "       [1.],\n",
       "       [1.],\n",
       "       [1.],\n",
       "       [1.],\n",
       "       [1.],\n",
       "       [1.],\n",
       "       [1.],\n",
       "       [0.],\n",
       "       [1.],\n",
       "       [1.],\n",
       "       [0.],\n",
       "       [1.],\n",
       "       [1.],\n",
       "       [0.],\n",
       "       [1.],\n",
       "       [1.],\n",
       "       [1.],\n",
       "       [0.],\n",
       "       [1.],\n",
       "       [1.],\n",
       "       [0.],\n",
       "       [0.],\n",
       "       [1.],\n",
       "       [0.],\n",
       "       [1.],\n",
       "       [1.],\n",
       "       [0.],\n",
       "       [1.],\n",
       "       [1.],\n",
       "       [1.],\n",
       "       [1.],\n",
       "       [1.],\n",
       "       [0.],\n",
       "       [1.],\n",
       "       [1.],\n",
       "       [1.],\n",
       "       [1.],\n",
       "       [1.],\n",
       "       [0.],\n",
       "       [0.],\n",
       "       [1.],\n",
       "       [1.],\n",
       "       [1.],\n",
       "       [0.],\n",
       "       [1.],\n",
       "       [0.],\n",
       "       [1.],\n",
       "       [1.],\n",
       "       [1.],\n",
       "       [1.],\n",
       "       [1.],\n",
       "       [1.],\n",
       "       [1.],\n",
       "       [1.],\n",
       "       [1.],\n",
       "       [1.],\n",
       "       [1.],\n",
       "       [1.],\n",
       "       [1.],\n",
       "       [0.],\n",
       "       [1.],\n",
       "       [1.],\n",
       "       [0.],\n",
       "       [0.],\n",
       "       [1.],\n",
       "       [1.],\n",
       "       [1.],\n",
       "       [1.],\n",
       "       [1.],\n",
       "       [1.],\n",
       "       [0.],\n",
       "       [1.],\n",
       "       [1.],\n",
       "       [1.],\n",
       "       [0.],\n",
       "       [1.],\n",
       "       [0.],\n",
       "       [0.],\n",
       "       [0.],\n",
       "       [1.],\n",
       "       [1.],\n",
       "       [0.],\n",
       "       [0.],\n",
       "       [1.],\n",
       "       [1.],\n",
       "       [1.],\n",
       "       [1.],\n",
       "       [0.],\n",
       "       [1.],\n",
       "       [1.],\n",
       "       [1.],\n",
       "       [0.],\n",
       "       [0.],\n",
       "       [1.],\n",
       "       [0.],\n",
       "       [1.],\n",
       "       [0.],\n",
       "       [1.],\n",
       "       [1.],\n",
       "       [1.],\n",
       "       [1.],\n",
       "       [1.],\n",
       "       [0.],\n",
       "       [0.],\n",
       "       [1.],\n",
       "       [1.],\n",
       "       [1.],\n",
       "       [1.],\n",
       "       [1.],\n",
       "       [1.],\n",
       "       [1.],\n",
       "       [0.],\n",
       "       [0.],\n",
       "       [1.],\n",
       "       [1.],\n",
       "       [1.],\n",
       "       [1.],\n",
       "       [1.],\n",
       "       [1.],\n",
       "       [1.],\n",
       "       [1.],\n",
       "       [0.],\n",
       "       [1.],\n",
       "       [1.],\n",
       "       [0.],\n",
       "       [0.],\n",
       "       [1.],\n",
       "       [0.],\n",
       "       [0.],\n",
       "       [0.],\n",
       "       [0.],\n",
       "       [0.],\n",
       "       [1.],\n",
       "       [0.],\n",
       "       [1.],\n",
       "       [1.],\n",
       "       [1.],\n",
       "       [1.],\n",
       "       [1.],\n",
       "       [1.],\n",
       "       [0.],\n",
       "       [1.],\n",
       "       [1.],\n",
       "       [1.],\n",
       "       [1.],\n",
       "       [1.],\n",
       "       [0.],\n",
       "       [1.],\n",
       "       [1.],\n",
       "       [1.],\n",
       "       [1.],\n",
       "       [1.],\n",
       "       [1.],\n",
       "       [1.],\n",
       "       [1.],\n",
       "       [0.],\n",
       "       [1.],\n",
       "       [1.],\n",
       "       [1.],\n",
       "       [0.],\n",
       "       [0.],\n",
       "       [1.],\n",
       "       [1.],\n",
       "       [1.],\n",
       "       [0.],\n",
       "       [0.],\n",
       "       [0.],\n",
       "       [1.],\n",
       "       [1.],\n",
       "       [0.],\n",
       "       [0.],\n",
       "       [1.],\n",
       "       [1.],\n",
       "       [1.],\n",
       "       [1.],\n",
       "       [1.],\n",
       "       [1.],\n",
       "       [1.],\n",
       "       [0.],\n",
       "       [1.],\n",
       "       [0.],\n",
       "       [0.],\n",
       "       [1.],\n",
       "       [0.],\n",
       "       [1.],\n",
       "       [1.],\n",
       "       [1.],\n",
       "       [0.],\n",
       "       [0.],\n",
       "       [1.],\n",
       "       [0.],\n",
       "       [1.],\n",
       "       [1.],\n",
       "       [1.],\n",
       "       [1.],\n",
       "       [1.],\n",
       "       [0.],\n",
       "       [1.],\n",
       "       [1.],\n",
       "       [0.],\n",
       "       [1.],\n",
       "       [1.],\n",
       "       [0.],\n",
       "       [1.],\n",
       "       [1.],\n",
       "       [1.],\n",
       "       [0.],\n",
       "       [1.],\n",
       "       [1.],\n",
       "       [0.],\n",
       "       [1.],\n",
       "       [1.],\n",
       "       [1.],\n",
       "       [0.],\n",
       "       [1.],\n",
       "       [1.],\n",
       "       [1.],\n",
       "       [1.],\n",
       "       [1.],\n",
       "       [1.],\n",
       "       [1.],\n",
       "       [1.],\n",
       "       [0.],\n",
       "       [0.],\n",
       "       [1.],\n",
       "       [1.],\n",
       "       [1.],\n",
       "       [1.],\n",
       "       [0.],\n",
       "       [1.],\n",
       "       [1.],\n",
       "       [1.],\n",
       "       [1.],\n",
       "       [1.],\n",
       "       [1.],\n",
       "       [0.],\n",
       "       [1.],\n",
       "       [0.],\n",
       "       [0.],\n",
       "       [0.],\n",
       "       [1.],\n",
       "       [0.],\n",
       "       [1.],\n",
       "       [0.],\n",
       "       [0.],\n",
       "       [1.],\n",
       "       [1.],\n",
       "       [1.],\n",
       "       [0.],\n",
       "       [1.],\n",
       "       [1.],\n",
       "       [0.],\n",
       "       [0.],\n",
       "       [1.],\n",
       "       [0.],\n",
       "       [1.],\n",
       "       [1.],\n",
       "       [1.],\n",
       "       [1.],\n",
       "       [0.],\n",
       "       [1.],\n",
       "       [0.],\n",
       "       [1.],\n",
       "       [1.],\n",
       "       [1.],\n",
       "       [0.],\n",
       "       [1.],\n",
       "       [1.],\n",
       "       [0.],\n",
       "       [1.],\n",
       "       [1.],\n",
       "       [1.],\n",
       "       [1.],\n",
       "       [1.],\n",
       "       [1.],\n",
       "       [1.],\n",
       "       [1.],\n",
       "       [1.],\n",
       "       [1.],\n",
       "       [0.],\n",
       "       [1.],\n",
       "       [1.],\n",
       "       [0.],\n",
       "       [1.],\n",
       "       [1.],\n",
       "       [1.],\n",
       "       [1.],\n",
       "       [0.],\n",
       "       [1.],\n",
       "       [1.],\n",
       "       [1.],\n",
       "       [0.],\n",
       "       [1.],\n",
       "       [1.],\n",
       "       [0.],\n",
       "       [1.],\n",
       "       [1.],\n",
       "       [1.],\n",
       "       [0.],\n",
       "       [1.],\n",
       "       [1.],\n",
       "       [0.],\n",
       "       [1.],\n",
       "       [1.],\n",
       "       [1.],\n",
       "       [1.],\n",
       "       [1.],\n",
       "       [0.],\n",
       "       [1.],\n",
       "       [1.],\n",
       "       [0.],\n",
       "       [1.],\n",
       "       [1.],\n",
       "       [1.],\n",
       "       [1.],\n",
       "       [1.],\n",
       "       [1.],\n",
       "       [1.],\n",
       "       [0.],\n",
       "       [1.],\n",
       "       [1.],\n",
       "       [1.],\n",
       "       [1.],\n",
       "       [1.],\n",
       "       [1.],\n",
       "       [1.],\n",
       "       [0.],\n",
       "       [1.],\n",
       "       [1.],\n",
       "       [1.],\n",
       "       [0.],\n",
       "       [1.],\n",
       "       [0.],\n",
       "       [0.],\n",
       "       [1.],\n",
       "       [1.],\n",
       "       [1.],\n",
       "       [0.],\n",
       "       [0.],\n",
       "       [0.],\n",
       "       [1.],\n",
       "       [1.],\n",
       "       [1.],\n",
       "       [1.],\n",
       "       [1.],\n",
       "       [1.],\n",
       "       [1.],\n",
       "       [1.],\n",
       "       [1.],\n",
       "       [0.],\n",
       "       [0.],\n",
       "       [1.],\n",
       "       [1.],\n",
       "       [1.],\n",
       "       [0.],\n",
       "       [1.],\n",
       "       [1.],\n",
       "       [0.],\n",
       "       [0.],\n",
       "       [0.],\n",
       "       [0.],\n",
       "       [0.],\n",
       "       [1.],\n",
       "       [0.],\n",
       "       [1.],\n",
       "       [1.],\n",
       "       [1.],\n",
       "       [1.],\n",
       "       [0.],\n",
       "       [0.],\n",
       "       [1.],\n",
       "       [1.],\n",
       "       [1.],\n",
       "       [0.],\n",
       "       [1.],\n",
       "       [1.],\n",
       "       [1.],\n",
       "       [1.],\n",
       "       [1.],\n",
       "       [1.],\n",
       "       [0.],\n",
       "       [1.],\n",
       "       [0.],\n",
       "       [1.],\n",
       "       [1.],\n",
       "       [1.],\n",
       "       [0.],\n",
       "       [1.],\n",
       "       [1.],\n",
       "       [1.],\n",
       "       [1.],\n",
       "       [1.],\n",
       "       [1.],\n",
       "       [1.],\n",
       "       [1.],\n",
       "       [1.],\n",
       "       [0.],\n",
       "       [1.],\n",
       "       [0.],\n",
       "       [1.],\n",
       "       [0.],\n",
       "       [1.],\n",
       "       [1.],\n",
       "       [1.],\n",
       "       [1.],\n",
       "       [0.],\n",
       "       [1.],\n",
       "       [1.],\n",
       "       [1.],\n",
       "       [0.],\n",
       "       [1.],\n",
       "       [1.],\n",
       "       [0.],\n",
       "       [1.],\n",
       "       [0.],\n",
       "       [1.],\n",
       "       [1.],\n",
       "       [0.],\n",
       "       [0.],\n",
       "       [1.],\n",
       "       [1.],\n",
       "       [0.],\n",
       "       [1.],\n",
       "       [1.],\n",
       "       [0.],\n",
       "       [0.],\n",
       "       [0.],\n",
       "       [0.],\n",
       "       [0.],\n",
       "       [1.],\n",
       "       [1.],\n",
       "       [1.],\n",
       "       [0.],\n",
       "       [1.],\n",
       "       [1.],\n",
       "       [1.],\n",
       "       [1.],\n",
       "       [1.],\n",
       "       [1.],\n",
       "       [1.],\n",
       "       [1.],\n",
       "       [1.],\n",
       "       [1.],\n",
       "       [1.],\n",
       "       [0.],\n",
       "       [1.],\n",
       "       [0.],\n",
       "       [0.],\n",
       "       [1.],\n",
       "       [0.],\n",
       "       [1.],\n",
       "       [0.],\n",
       "       [1.],\n",
       "       [1.],\n",
       "       [1.],\n",
       "       [1.],\n",
       "       [0.],\n",
       "       [1.],\n",
       "       [1.],\n",
       "       [1.],\n",
       "       [1.],\n",
       "       [1.],\n",
       "       [1.],\n",
       "       [0.],\n",
       "       [1.],\n",
       "       [1.],\n",
       "       [0.],\n",
       "       [0.],\n",
       "       [1.],\n",
       "       [1.],\n",
       "       [0.],\n",
       "       [0.],\n",
       "       [0.],\n",
       "       [1.],\n",
       "       [0.],\n",
       "       [1.],\n",
       "       [1.],\n",
       "       [1.],\n",
       "       [1.],\n",
       "       [0.],\n",
       "       [0.],\n",
       "       [1.],\n",
       "       [0.],\n",
       "       [1.],\n",
       "       [1.],\n",
       "       [1.],\n",
       "       [0.],\n",
       "       [1.],\n",
       "       [1.],\n",
       "       [1.],\n",
       "       [0.],\n",
       "       [1.],\n",
       "       [1.],\n",
       "       [0.],\n",
       "       [0.],\n",
       "       [1.],\n",
       "       [0.],\n",
       "       [1.],\n",
       "       [1.],\n",
       "       [0.],\n",
       "       [0.],\n",
       "       [1.],\n",
       "       [0.],\n",
       "       [1.],\n",
       "       [1.],\n",
       "       [0.],\n",
       "       [1.],\n",
       "       [1.],\n",
       "       [1.],\n",
       "       [0.],\n",
       "       [1.],\n",
       "       [1.],\n",
       "       [1.],\n",
       "       [0.],\n",
       "       [0.],\n",
       "       [1.],\n",
       "       [1.],\n",
       "       [1.],\n",
       "       [0.],\n",
       "       [1.],\n",
       "       [1.],\n",
       "       [0.],\n",
       "       [0.],\n",
       "       [1.],\n",
       "       [1.],\n",
       "       [1.],\n",
       "       [1.]])"
      ]
     },
     "execution_count": 59,
     "metadata": {},
     "output_type": "execute_result"
    }
   ],
   "source": [
    "encoder = OneHotEncoder(sparse=False, drop='first')\n",
    "encoder.fit_transform(train[[\"Sex\"]])"
   ]
  },
  {
   "cell_type": "code",
   "execution_count": 60,
   "id": "0c0a73de",
   "metadata": {},
   "outputs": [
    {
     "data": {
      "text/plain": [
       "[array(['female', 'male'], dtype=object)]"
      ]
     },
     "execution_count": 60,
     "metadata": {},
     "output_type": "execute_result"
    }
   ],
   "source": [
    "encoder.categories_"
   ]
  },
  {
   "cell_type": "code",
   "execution_count": 61,
   "id": "1043e79c",
   "metadata": {},
   "outputs": [
    {
     "data": {
      "text/plain": [
       "array([['female']], dtype=object)"
      ]
     },
     "execution_count": 61,
     "metadata": {},
     "output_type": "execute_result"
    }
   ],
   "source": [
    "encoder.inverse_transform([[0]])"
   ]
  },
  {
   "cell_type": "markdown",
   "id": "ab45782a",
   "metadata": {},
   "source": [
    "## PIPELINE"
   ]
  },
  {
   "cell_type": "code",
   "execution_count": 62,
   "id": "c7904d83",
   "metadata": {},
   "outputs": [],
   "source": [
    "from sklearn.pipeline import Pipeline"
   ]
  },
  {
   "cell_type": "code",
   "execution_count": 63,
   "id": "28b8da49",
   "metadata": {},
   "outputs": [],
   "source": [
    "numeric_pipeline = Pipeline(\n",
    "    [\n",
    "        ('imputacion con la media', SimpleImputer(strategy='mean')),\n",
    "        ('Escalado minmax', MinMaxScaler())\n",
    "    ]\n",
    ")"
   ]
  },
  {
   "cell_type": "code",
   "execution_count": 64,
   "id": "5c7df7b9",
   "metadata": {},
   "outputs": [
    {
     "data": {
      "text/plain": [
       "Pipeline(steps=[('imputacion con la media', SimpleImputer()),\n",
       "                ('Escalado minmax', MinMaxScaler())])"
      ]
     },
     "execution_count": 64,
     "metadata": {},
     "output_type": "execute_result"
    }
   ],
   "source": [
    "numeric_pipeline.fit(train[[\"Age\", \"Credit amount\", \"Duration\"]])"
   ]
  },
  {
   "cell_type": "code",
   "execution_count": 65,
   "id": "0103f708",
   "metadata": {},
   "outputs": [
    {
     "data": {
      "text/plain": [
       "array([  35.40285714, 3236.12142857,   21.04857143])"
      ]
     },
     "execution_count": 65,
     "metadata": {},
     "output_type": "execute_result"
    }
   ],
   "source": [
    "numeric_pipeline[0].statistics_"
   ]
  },
  {
   "cell_type": "code",
   "execution_count": 66,
   "id": "89c48b2b",
   "metadata": {},
   "outputs": [
    {
     "data": {
      "text/plain": [
       "array([-0.36363636, -0.01375592, -0.05882353])"
      ]
     },
     "execution_count": 66,
     "metadata": {},
     "output_type": "execute_result"
    }
   ],
   "source": [
    "numeric_pipeline[1].min_"
   ]
  },
  {
   "cell_type": "code",
   "execution_count": 67,
   "id": "d4bb2174",
   "metadata": {},
   "outputs": [
    {
     "data": {
      "text/plain": [
       "array([   75., 18424.,    72.])"
      ]
     },
     "execution_count": 67,
     "metadata": {},
     "output_type": "execute_result"
    }
   ],
   "source": [
    "numeric_pipeline[1].data_max_"
   ]
  },
  {
   "cell_type": "code",
   "execution_count": 68,
   "id": "96126f65",
   "metadata": {},
   "outputs": [
    {
     "data": {
      "text/plain": [
       "Age                 75\n",
       "Credit amount    18424\n",
       "Duration            72\n",
       "dtype: int64"
      ]
     },
     "execution_count": 68,
     "metadata": {},
     "output_type": "execute_result"
    }
   ],
   "source": [
    "train[[\"Age\", \"Credit amount\", \"Duration\"]].max()"
   ]
  },
  {
   "cell_type": "code",
   "execution_count": 69,
   "id": "8ca7bf69",
   "metadata": {},
   "outputs": [
    {
     "data": {
      "text/plain": [
       "array([[0.2       , 0.23236492, 0.47058824],\n",
       "       [0.47272727, 0.08688236, 0.16176471],\n",
       "       [0.12727273, 0.3944096 , 0.82352941],\n",
       "       ...,\n",
       "       [0.78181818, 0.07730824, 0.11764706],\n",
       "       [0.52727273, 0.10157368, 0.11764706],\n",
       "       [0.30909091, 0.18851106, 0.02941176]])"
      ]
     },
     "execution_count": 69,
     "metadata": {},
     "output_type": "execute_result"
    }
   ],
   "source": [
    "numeric_pipeline.transform(train[[\"Age\", \"Credit amount\", \"Duration\"]])"
   ]
  },
  {
   "cell_type": "code",
   "execution_count": 70,
   "id": "a16d2142",
   "metadata": {},
   "outputs": [
    {
     "name": "stderr",
     "output_type": "stream",
     "text": [
      "/home/ec2-user/anaconda3/envs/python3/lib/python3.8/site-packages/sklearn/base.py:445: UserWarning: X does not have valid feature names, but SimpleImputer was fitted with feature names\n",
      "  warnings.warn(\n"
     ]
    },
    {
     "data": {
      "text/plain": [
       "array([[0.28005195, 0.16430733, 0.25071429]])"
      ]
     },
     "execution_count": 70,
     "metadata": {},
     "output_type": "execute_result"
    }
   ],
   "source": [
    "numeric_pipeline.transform([[np.nan, np.nan, np.nan]])"
   ]
  },
  {
   "cell_type": "code",
   "execution_count": 71,
   "id": "b759db5f",
   "metadata": {},
   "outputs": [],
   "source": [
    "category_pipeline = Pipeline(\n",
    "    [\n",
    "        ('imputacion con la moda', SimpleImputer(strategy='most_frequent')),\n",
    "        ('Codificar', OneHotEncoder(sparse=False))\n",
    "    ]\n",
    ")"
   ]
  },
  {
   "cell_type": "code",
   "execution_count": 72,
   "id": "f715c1e5",
   "metadata": {},
   "outputs": [
    {
     "data": {
      "text/plain": [
       "Pipeline(steps=[('imputacion con la moda',\n",
       "                 SimpleImputer(strategy='most_frequent')),\n",
       "                ('Codificar', OneHotEncoder(sparse=False))])"
      ]
     },
     "execution_count": 72,
     "metadata": {},
     "output_type": "execute_result"
    }
   ],
   "source": [
    "category_pipeline.fit(train[[\"Sex\", \"Purpose\", \"Housing\"]])"
   ]
  },
  {
   "cell_type": "code",
   "execution_count": 73,
   "id": "a87d6990",
   "metadata": {},
   "outputs": [
    {
     "data": {
      "text/plain": [
       "array(['male', 'car', 'own'], dtype=object)"
      ]
     },
     "execution_count": 73,
     "metadata": {},
     "output_type": "execute_result"
    }
   ],
   "source": [
    "category_pipeline[0].statistics_"
   ]
  },
  {
   "cell_type": "code",
   "execution_count": 74,
   "id": "a9ebf6cc",
   "metadata": {},
   "outputs": [
    {
     "data": {
      "text/plain": [
       "[array(['female', 'male'], dtype=object),\n",
       " array(['business', 'car', 'domestic appliances', 'education',\n",
       "        'furniture/equipment', 'radio/TV', 'repairs', 'vacation/others'],\n",
       "       dtype=object),\n",
       " array(['free', 'own', 'rent'], dtype=object)]"
      ]
     },
     "execution_count": 74,
     "metadata": {},
     "output_type": "execute_result"
    }
   ],
   "source": [
    "category_pipeline[1].categories_"
   ]
  },
  {
   "cell_type": "code",
   "execution_count": 75,
   "id": "60e355aa",
   "metadata": {},
   "outputs": [
    {
     "data": {
      "text/plain": [
       "array([[0., 1., 0., ..., 0., 1., 0.],\n",
       "       [0., 1., 0., ..., 0., 1., 0.],\n",
       "       [0., 1., 0., ..., 0., 1., 0.],\n",
       "       ...,\n",
       "       [0., 1., 0., ..., 0., 1., 0.],\n",
       "       [0., 1., 0., ..., 0., 1., 0.],\n",
       "       [0., 1., 0., ..., 0., 0., 1.]])"
      ]
     },
     "execution_count": 75,
     "metadata": {},
     "output_type": "execute_result"
    }
   ],
   "source": [
    "category_pipeline.transform(train[[\"Sex\", \"Purpose\", \"Housing\"]])"
   ]
  },
  {
   "cell_type": "code",
   "execution_count": 76,
   "id": "2e485148",
   "metadata": {},
   "outputs": [
    {
     "data": {
      "text/plain": [
       "[array(['female', 'male'], dtype=object),\n",
       " array(['business', 'car', 'domestic appliances', 'education',\n",
       "        'furniture/equipment', 'radio/TV', 'repairs', 'vacation/others'],\n",
       "       dtype=object),\n",
       " array(['free', 'own', 'rent'], dtype=object)]"
      ]
     },
     "execution_count": 76,
     "metadata": {},
     "output_type": "execute_result"
    }
   ],
   "source": [
    "category_pipeline[1].categories_"
   ]
  },
  {
   "cell_type": "code",
   "execution_count": 77,
   "id": "8d36aa5e",
   "metadata": {},
   "outputs": [],
   "source": [
    "from sklearn.compose import ColumnTransformer"
   ]
  },
  {
   "cell_type": "code",
   "execution_count": 78,
   "id": "aa9bdadd",
   "metadata": {},
   "outputs": [],
   "source": [
    "column_transformer = ColumnTransformer(\n",
    "    [\n",
    "        ('numeric_pipeline', numeric_pipeline, [0, 1, 2]),\n",
    "        ('category_pipeline', category_pipeline, [3,4,5])\n",
    "    ]\n",
    "\n",
    ")"
   ]
  },
  {
   "cell_type": "code",
   "execution_count": 79,
   "id": "115ace59",
   "metadata": {},
   "outputs": [
    {
     "data": {
      "text/plain": [
       "ColumnTransformer(transformers=[('numeric_pipeline',\n",
       "                                 Pipeline(steps=[('imputacion con la media',\n",
       "                                                  SimpleImputer()),\n",
       "                                                 ('Escalado minmax',\n",
       "                                                  MinMaxScaler())]),\n",
       "                                 [0, 1, 2]),\n",
       "                                ('category_pipeline',\n",
       "                                 Pipeline(steps=[('imputacion con la moda',\n",
       "                                                  SimpleImputer(strategy='most_frequent')),\n",
       "                                                 ('Codificar',\n",
       "                                                  OneHotEncoder(sparse=False))]),\n",
       "                                 [3, 4, 5])])"
      ]
     },
     "execution_count": 79,
     "metadata": {},
     "output_type": "execute_result"
    }
   ],
   "source": [
    "column_transformer.fit(train[[\"Age\", \"Credit amount\", \"Duration\", \"Sex\", \"Purpose\", \"Housing\"]])"
   ]
  },
  {
   "cell_type": "code",
   "execution_count": 80,
   "id": "e50200ed",
   "metadata": {},
   "outputs": [
    {
     "data": {
      "text/plain": [
       "array([[0.2       , 0.23236492, 0.47058824, ..., 0.        , 1.        ,\n",
       "        0.        ],\n",
       "       [0.47272727, 0.08688236, 0.16176471, ..., 0.        , 1.        ,\n",
       "        0.        ],\n",
       "       [0.12727273, 0.3944096 , 0.82352941, ..., 0.        , 1.        ,\n",
       "        0.        ],\n",
       "       ...,\n",
       "       [0.78181818, 0.07730824, 0.11764706, ..., 0.        , 1.        ,\n",
       "        0.        ],\n",
       "       [0.52727273, 0.10157368, 0.11764706, ..., 0.        , 1.        ,\n",
       "        0.        ],\n",
       "       [0.30909091, 0.18851106, 0.02941176, ..., 0.        , 0.        ,\n",
       "        1.        ]])"
      ]
     },
     "execution_count": 80,
     "metadata": {},
     "output_type": "execute_result"
    }
   ],
   "source": [
    "column_transformer.transform(train[[\"Age\", \"Credit amount\", \"Duration\", \"Sex\", \"Purpose\", \"Housing\"]])"
   ]
  },
  {
   "cell_type": "code",
   "execution_count": 81,
   "id": "041a3e5b",
   "metadata": {},
   "outputs": [],
   "source": [
    "import joblib"
   ]
  },
  {
   "cell_type": "code",
   "execution_count": 82,
   "id": "7e62dac3",
   "metadata": {},
   "outputs": [
    {
     "data": {
      "text/plain": [
       "['preprocessing.joblib']"
      ]
     },
     "execution_count": 82,
     "metadata": {},
     "output_type": "execute_result"
    }
   ],
   "source": [
    "joblib.dump(column_transformer, 'preprocessing.joblib')"
   ]
  },
  {
   "cell_type": "markdown",
   "id": "4fa47a36",
   "metadata": {},
   "source": [
    "## Evaluacion de modelos con validacion cruzada\n"
   ]
  },
  {
   "cell_type": "code",
   "execution_count": 167,
   "id": "0ab8dff3",
   "metadata": {},
   "outputs": [],
   "source": [
    "X_train = train[[\"Age\", \"Credit amount\", \"Duration\", \"Sex\", \"Purpose\", \"Housing\"]]"
   ]
  },
  {
   "cell_type": "code",
   "execution_count": 168,
   "id": "4f313a63",
   "metadata": {},
   "outputs": [],
   "source": [
    "y_train = train['Risk']"
   ]
  },
  {
   "cell_type": "code",
   "execution_count": 169,
   "id": "f4d8ac66",
   "metadata": {},
   "outputs": [],
   "source": [
    "X_train_processed = column_transformer.transform(X_train)"
   ]
  },
  {
   "cell_type": "code",
   "execution_count": 170,
   "id": "7c81f7b3",
   "metadata": {},
   "outputs": [],
   "source": [
    "from sklearn.model_selection import cross_validate\n",
    "from sklearn.tree import DecisionTreeClassifier"
   ]
  },
  {
   "cell_type": "code",
   "execution_count": 171,
   "id": "276c9a70",
   "metadata": {},
   "outputs": [],
   "source": [
    "y_train_transform = (y_train == 'good').astype('int')"
   ]
  },
  {
   "cell_type": "code",
   "execution_count": 172,
   "id": "9a7c150c",
   "metadata": {},
   "outputs": [],
   "source": [
    "results = cross_validate(DecisionTreeClassifier(), X_train_processed, y_train_transform, cv=10, scoring=['accuracy', 'f1'])"
   ]
  },
  {
   "cell_type": "code",
   "execution_count": 173,
   "id": "ed77fad2",
   "metadata": {},
   "outputs": [
    {
     "name": "stdout",
     "output_type": "stream",
     "text": [
      "0.6357142857142857 +- 0.05578749768504752\n"
     ]
    }
   ],
   "source": [
    "print(results['test_accuracy'].mean(),\"+-\", results['test_accuracy'].std())"
   ]
  },
  {
   "cell_type": "code",
   "execution_count": 174,
   "id": "f4eedf41",
   "metadata": {},
   "outputs": [],
   "source": [
    "evaluation_pipeline = Pipeline(\n",
    "    [\n",
    "        ('Pipeline de preprosesamiento', column_transformer),\n",
    "        ('Modelo de prediccion(Arbol)', DecisionTreeClassifier(max_depth=2))\n",
    "    ]\n",
    ")"
   ]
  },
  {
   "cell_type": "code",
   "execution_count": 175,
   "id": "ba10d8e2",
   "metadata": {},
   "outputs": [],
   "source": [
    "results = cross_validate(DecisionTreeClassifier(), X_train_processed, y_train_transform, cv=10, scoring=['accuracy', 'f1'])"
   ]
  },
  {
   "cell_type": "code",
   "execution_count": 176,
   "id": "3c379c2a",
   "metadata": {},
   "outputs": [
    {
     "name": "stdout",
     "output_type": "stream",
     "text": [
      "0.6199999999999999 +- 0.050386263110138274\n"
     ]
    }
   ],
   "source": [
    "print(results['test_accuracy'].mean(),\"+-\", results['test_accuracy'].std())"
   ]
  },
  {
   "cell_type": "code",
   "execution_count": 177,
   "id": "0cb0ed64",
   "metadata": {},
   "outputs": [],
   "source": [
    "from sklearn.model_selection import GridSearchCV "
   ]
  },
  {
   "cell_type": "code",
   "execution_count": 178,
   "id": "62a0e804",
   "metadata": {},
   "outputs": [],
   "source": [
    "grid = {'max_depth' : [2, 3, 4, 10]}"
   ]
  },
  {
   "cell_type": "code",
   "execution_count": 182,
   "id": "a9d35383",
   "metadata": {},
   "outputs": [],
   "source": [
    "grid_search = GridSearchCV(DecisionTreeClassifier(), param_grid = grid, cv = 10, scoring='accuracy')"
   ]
  },
  {
   "cell_type": "code",
   "execution_count": 184,
   "id": "4bbe5371",
   "metadata": {},
   "outputs": [
    {
     "data": {
      "text/plain": [
       "GridSearchCV(cv=10, estimator=DecisionTreeClassifier(),\n",
       "             param_grid={'max_depth': [2, 3, 4, 10]}, scoring='accuracy')"
      ]
     },
     "execution_count": 184,
     "metadata": {},
     "output_type": "execute_result"
    }
   ],
   "source": [
    "grid_search.fit(X_train_processed, y_train_transform)"
   ]
  },
  {
   "cell_type": "code",
   "execution_count": 185,
   "id": "0f131726",
   "metadata": {},
   "outputs": [
    {
     "data": {
      "text/plain": [
       "0.7228571428571429"
      ]
     },
     "execution_count": 185,
     "metadata": {},
     "output_type": "execute_result"
    }
   ],
   "source": [
    "grid_search.best_score_"
   ]
  },
  {
   "cell_type": "code",
   "execution_count": 186,
   "id": "bf37d623",
   "metadata": {},
   "outputs": [
    {
     "data": {
      "text/plain": [
       "{'max_depth': 3}"
      ]
     },
     "execution_count": 186,
     "metadata": {},
     "output_type": "execute_result"
    }
   ],
   "source": [
    "grid_search.best_params_"
   ]
  },
  {
   "cell_type": "code",
   "execution_count": null,
   "id": "d7d151e8",
   "metadata": {},
   "outputs": [],
   "source": []
  },
  {
   "cell_type": "code",
   "execution_count": null,
   "id": "a33310a8",
   "metadata": {},
   "outputs": [],
   "source": []
  },
  {
   "cell_type": "code",
   "execution_count": null,
   "id": "b2bcc57b",
   "metadata": {},
   "outputs": [],
   "source": []
  },
  {
   "cell_type": "code",
   "execution_count": null,
   "id": "ab3ea14e",
   "metadata": {},
   "outputs": [],
   "source": []
  },
  {
   "cell_type": "code",
   "execution_count": null,
   "id": "7e63fa25",
   "metadata": {},
   "outputs": [],
   "source": []
  },
  {
   "cell_type": "code",
   "execution_count": null,
   "id": "c5ee0cb5",
   "metadata": {},
   "outputs": [],
   "source": []
  },
  {
   "cell_type": "code",
   "execution_count": null,
   "id": "2ae40c3d",
   "metadata": {},
   "outputs": [],
   "source": []
  },
  {
   "cell_type": "code",
   "execution_count": null,
   "id": "59983e26",
   "metadata": {},
   "outputs": [],
   "source": []
  },
  {
   "cell_type": "code",
   "execution_count": null,
   "id": "c0f45472",
   "metadata": {},
   "outputs": [],
   "source": []
  },
  {
   "cell_type": "code",
   "execution_count": null,
   "id": "b71e357b",
   "metadata": {},
   "outputs": [],
   "source": []
  },
  {
   "cell_type": "code",
   "execution_count": null,
   "id": "375e5885",
   "metadata": {},
   "outputs": [],
   "source": []
  },
  {
   "cell_type": "code",
   "execution_count": null,
   "id": "495bdf37",
   "metadata": {},
   "outputs": [],
   "source": []
  },
  {
   "cell_type": "code",
   "execution_count": null,
   "id": "4ee32e9d",
   "metadata": {},
   "outputs": [],
   "source": []
  },
  {
   "cell_type": "code",
   "execution_count": null,
   "id": "2c831eee",
   "metadata": {},
   "outputs": [],
   "source": []
  },
  {
   "cell_type": "code",
   "execution_count": null,
   "id": "eed8ac11",
   "metadata": {},
   "outputs": [],
   "source": []
  },
  {
   "cell_type": "code",
   "execution_count": null,
   "id": "fd7805c7",
   "metadata": {},
   "outputs": [],
   "source": []
  },
  {
   "cell_type": "code",
   "execution_count": null,
   "id": "de0cc1cb",
   "metadata": {},
   "outputs": [],
   "source": []
  },
  {
   "cell_type": "code",
   "execution_count": null,
   "id": "13a81de5",
   "metadata": {},
   "outputs": [],
   "source": []
  },
  {
   "cell_type": "code",
   "execution_count": null,
   "id": "f48fc627",
   "metadata": {},
   "outputs": [],
   "source": []
  },
  {
   "cell_type": "code",
   "execution_count": null,
   "id": "19b91aae",
   "metadata": {},
   "outputs": [],
   "source": []
  },
  {
   "cell_type": "code",
   "execution_count": null,
   "id": "80becb25",
   "metadata": {},
   "outputs": [],
   "source": []
  },
  {
   "cell_type": "code",
   "execution_count": null,
   "id": "368e8dc4",
   "metadata": {},
   "outputs": [],
   "source": []
  }
 ],
 "metadata": {
  "kernelspec": {
   "display_name": "conda_python3",
   "language": "python",
   "name": "conda_python3"
  },
  "language_info": {
   "codemirror_mode": {
    "name": "ipython",
    "version": 3
   },
   "file_extension": ".py",
   "mimetype": "text/x-python",
   "name": "python",
   "nbconvert_exporter": "python",
   "pygments_lexer": "ipython3",
   "version": "3.8.12"
  }
 },
 "nbformat": 4,
 "nbformat_minor": 5
}
