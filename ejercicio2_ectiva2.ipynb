{
 "cells": [
  {
   "cell_type": "code",
   "execution_count": 376,
   "id": "38572c8f",
   "metadata": {},
   "outputs": [],
   "source": [
    "import pandas as pd\n",
    "from sklearn.model_selection import train_test_split\n",
    "import math as mt\n",
    "import numpy as np\n",
    "import matplotlib.pyplot as plt\n",
    "import seaborn as sns\n",
    "from sklearn.pipeline import Pipeline\n",
    "from sklearn.impute import KNNImputer\n",
    "from sklearn.impute import SimpleImputer\n",
    "from sklearn.preprocessing import StandardScaler, RobustScaler, MinMaxScaler, OneHotEncoder\n",
    "from sklearn.compose import ColumnTransformer\n",
    "from sklearn.model_selection import cross_validate\n",
    "from sklearn.tree import DecisionTreeClassifier\n",
    "from sklearn.ensemble import RandomForestClassifier\n",
    "from sklearn.svm import SVC\n",
    "import matplotlib.pyplot as plt\n",
    "import joblib"
   ]
  },
  {
   "cell_type": "markdown",
   "id": "17ed01fb",
   "metadata": {},
   "source": [
    "## Cargue de datos "
   ]
  },
  {
   "cell_type": "code",
   "execution_count": 295,
   "id": "c1ecc306",
   "metadata": {},
   "outputs": [],
   "source": [
    "train = pd.read_csv(\"s3://claseelectiva2mao/datos/train\")\n",
    "test = pd.read_csv(\"s3://claseelectiva2mao/datos/test\")"
   ]
  },
  {
   "cell_type": "markdown",
   "id": "7cacecef",
   "metadata": {},
   "source": [
    "## Creacion del pipeline"
   ]
  },
  {
   "cell_type": "code",
   "execution_count": 296,
   "id": "d7074b9a",
   "metadata": {},
   "outputs": [],
   "source": [
    "numeric_pipeline = Pipeline(\n",
    "    [\n",
    "        ('imputacion con la media', SimpleImputer(strategy='mean')),\n",
    "        ('Escalado minmax', MinMaxScaler())\n",
    "    ]\n",
    ")"
   ]
  },
  {
   "cell_type": "code",
   "execution_count": 297,
   "id": "56034735",
   "metadata": {},
   "outputs": [],
   "source": [
    "category_pipeline = Pipeline(\n",
    "    [\n",
    "        ('imputacion con la moda', SimpleImputer(strategy='most_frequent')),\n",
    "        ('Codificar', OneHotEncoder(sparse=False))\n",
    "    ]\n",
    ")"
   ]
  },
  {
   "cell_type": "code",
   "execution_count": 298,
   "id": "8a38c50b",
   "metadata": {},
   "outputs": [],
   "source": [
    "column_transformer = ColumnTransformer(\n",
    "    [\n",
    "        ('numeric_pipeline', numeric_pipeline, [0, 1, 2]),\n",
    "        ('category_pipeline', category_pipeline, [3,4,5])\n",
    "    ]\n",
    "\n",
    ")"
   ]
  },
  {
   "cell_type": "code",
   "execution_count": 299,
   "id": "c01a5444",
   "metadata": {},
   "outputs": [],
   "source": [
    "features = [\"Age\", \"Credit amount\", \"Duration\", \"Sex\", \"Purpose\", \"Housing\"]"
   ]
  },
  {
   "cell_type": "markdown",
   "id": "ca3ee959",
   "metadata": {},
   "source": [
    "## Seleccion de caracteristicas"
   ]
  },
  {
   "cell_type": "code",
   "execution_count": 327,
   "id": "7de56114",
   "metadata": {},
   "outputs": [],
   "source": [
    "train = train.dropna()"
   ]
  },
  {
   "cell_type": "code",
   "execution_count": 328,
   "id": "21c4d1b3",
   "metadata": {},
   "outputs": [],
   "source": [
    "X_train = train.drop([\"Risk\", \"Unnamed: 0\"], axis=1)"
   ]
  },
  {
   "cell_type": "code",
   "execution_count": null,
   "id": "52512cfd",
   "metadata": {},
   "outputs": [],
   "source": []
  },
  {
   "cell_type": "code",
   "execution_count": 329,
   "id": "c4458696",
   "metadata": {},
   "outputs": [],
   "source": [
    "y_train = train[\"Risk\"]"
   ]
  },
  {
   "cell_type": "code",
   "execution_count": 353,
   "id": "0aedfdb8",
   "metadata": {},
   "outputs": [],
   "source": [
    "y_train = (y_train == 'good').astype('int')"
   ]
  },
  {
   "cell_type": "code",
   "execution_count": 331,
   "id": "ed7c484d",
   "metadata": {},
   "outputs": [
    {
     "name": "stdout",
     "output_type": "stream",
     "text": [
      "<class 'pandas.core.frame.DataFrame'>\n",
      "Int64Index: 361 entries, 0 to 699\n",
      "Data columns (total 9 columns):\n",
      " #   Column            Non-Null Count  Dtype \n",
      "---  ------            --------------  ----- \n",
      " 0   Age               361 non-null    int64 \n",
      " 1   Sex               361 non-null    object\n",
      " 2   Job               361 non-null    int64 \n",
      " 3   Housing           361 non-null    object\n",
      " 4   Saving accounts   361 non-null    object\n",
      " 5   Checking account  361 non-null    object\n",
      " 6   Credit amount     361 non-null    int64 \n",
      " 7   Duration          361 non-null    int64 \n",
      " 8   Purpose           361 non-null    object\n",
      "dtypes: int64(4), object(5)\n",
      "memory usage: 28.2+ KB\n"
     ]
    }
   ],
   "source": [
    "X_train.info()"
   ]
  },
  {
   "cell_type": "markdown",
   "id": "0b180b5d",
   "metadata": {},
   "source": [
    "## Imporrtancia de caracteristicas "
   ]
  },
  {
   "cell_type": "code",
   "execution_count": 332,
   "id": "7f2f102d",
   "metadata": {},
   "outputs": [],
   "source": [
    "X_train = pd.get_dummies(X_train)"
   ]
  },
  {
   "cell_type": "code",
   "execution_count": 333,
   "id": "8f300e62",
   "metadata": {},
   "outputs": [
    {
     "data": {
      "text/html": [
       "<div>\n",
       "<style scoped>\n",
       "    .dataframe tbody tr th:only-of-type {\n",
       "        vertical-align: middle;\n",
       "    }\n",
       "\n",
       "    .dataframe tbody tr th {\n",
       "        vertical-align: top;\n",
       "    }\n",
       "\n",
       "    .dataframe thead th {\n",
       "        text-align: right;\n",
       "    }\n",
       "</style>\n",
       "<table border=\"1\" class=\"dataframe\">\n",
       "  <thead>\n",
       "    <tr style=\"text-align: right;\">\n",
       "      <th></th>\n",
       "      <th>Age</th>\n",
       "      <th>Job</th>\n",
       "      <th>Credit amount</th>\n",
       "      <th>Duration</th>\n",
       "      <th>Sex_female</th>\n",
       "      <th>Sex_male</th>\n",
       "      <th>Housing_free</th>\n",
       "      <th>Housing_own</th>\n",
       "      <th>Housing_rent</th>\n",
       "      <th>Saving accounts_little</th>\n",
       "      <th>...</th>\n",
       "      <th>Checking account_moderate</th>\n",
       "      <th>Checking account_rich</th>\n",
       "      <th>Purpose_business</th>\n",
       "      <th>Purpose_car</th>\n",
       "      <th>Purpose_domestic appliances</th>\n",
       "      <th>Purpose_education</th>\n",
       "      <th>Purpose_furniture/equipment</th>\n",
       "      <th>Purpose_radio/TV</th>\n",
       "      <th>Purpose_repairs</th>\n",
       "      <th>Purpose_vacation/others</th>\n",
       "    </tr>\n",
       "  </thead>\n",
       "  <tbody>\n",
       "    <tr>\n",
       "      <th>0</th>\n",
       "      <td>31</td>\n",
       "      <td>2</td>\n",
       "      <td>4473</td>\n",
       "      <td>36</td>\n",
       "      <td>0</td>\n",
       "      <td>1</td>\n",
       "      <td>0</td>\n",
       "      <td>1</td>\n",
       "      <td>0</td>\n",
       "      <td>1</td>\n",
       "      <td>...</td>\n",
       "      <td>0</td>\n",
       "      <td>1</td>\n",
       "      <td>0</td>\n",
       "      <td>0</td>\n",
       "      <td>0</td>\n",
       "      <td>0</td>\n",
       "      <td>0</td>\n",
       "      <td>1</td>\n",
       "      <td>0</td>\n",
       "      <td>0</td>\n",
       "    </tr>\n",
       "    <tr>\n",
       "      <th>5</th>\n",
       "      <td>36</td>\n",
       "      <td>1</td>\n",
       "      <td>4241</td>\n",
       "      <td>24</td>\n",
       "      <td>0</td>\n",
       "      <td>1</td>\n",
       "      <td>0</td>\n",
       "      <td>1</td>\n",
       "      <td>0</td>\n",
       "      <td>1</td>\n",
       "      <td>...</td>\n",
       "      <td>1</td>\n",
       "      <td>0</td>\n",
       "      <td>1</td>\n",
       "      <td>0</td>\n",
       "      <td>0</td>\n",
       "      <td>0</td>\n",
       "      <td>0</td>\n",
       "      <td>0</td>\n",
       "      <td>0</td>\n",
       "      <td>0</td>\n",
       "    </tr>\n",
       "    <tr>\n",
       "      <th>6</th>\n",
       "      <td>35</td>\n",
       "      <td>3</td>\n",
       "      <td>6948</td>\n",
       "      <td>36</td>\n",
       "      <td>0</td>\n",
       "      <td>1</td>\n",
       "      <td>0</td>\n",
       "      <td>0</td>\n",
       "      <td>1</td>\n",
       "      <td>1</td>\n",
       "      <td>...</td>\n",
       "      <td>1</td>\n",
       "      <td>0</td>\n",
       "      <td>0</td>\n",
       "      <td>1</td>\n",
       "      <td>0</td>\n",
       "      <td>0</td>\n",
       "      <td>0</td>\n",
       "      <td>0</td>\n",
       "      <td>0</td>\n",
       "      <td>0</td>\n",
       "    </tr>\n",
       "    <tr>\n",
       "      <th>7</th>\n",
       "      <td>24</td>\n",
       "      <td>2</td>\n",
       "      <td>2145</td>\n",
       "      <td>36</td>\n",
       "      <td>0</td>\n",
       "      <td>1</td>\n",
       "      <td>0</td>\n",
       "      <td>1</td>\n",
       "      <td>0</td>\n",
       "      <td>1</td>\n",
       "      <td>...</td>\n",
       "      <td>0</td>\n",
       "      <td>0</td>\n",
       "      <td>1</td>\n",
       "      <td>0</td>\n",
       "      <td>0</td>\n",
       "      <td>0</td>\n",
       "      <td>0</td>\n",
       "      <td>0</td>\n",
       "      <td>0</td>\n",
       "      <td>0</td>\n",
       "    </tr>\n",
       "    <tr>\n",
       "      <th>10</th>\n",
       "      <td>30</td>\n",
       "      <td>2</td>\n",
       "      <td>639</td>\n",
       "      <td>12</td>\n",
       "      <td>0</td>\n",
       "      <td>1</td>\n",
       "      <td>0</td>\n",
       "      <td>1</td>\n",
       "      <td>0</td>\n",
       "      <td>1</td>\n",
       "      <td>...</td>\n",
       "      <td>1</td>\n",
       "      <td>0</td>\n",
       "      <td>0</td>\n",
       "      <td>0</td>\n",
       "      <td>0</td>\n",
       "      <td>0</td>\n",
       "      <td>0</td>\n",
       "      <td>0</td>\n",
       "      <td>1</td>\n",
       "      <td>0</td>\n",
       "    </tr>\n",
       "    <tr>\n",
       "      <th>...</th>\n",
       "      <td>...</td>\n",
       "      <td>...</td>\n",
       "      <td>...</td>\n",
       "      <td>...</td>\n",
       "      <td>...</td>\n",
       "      <td>...</td>\n",
       "      <td>...</td>\n",
       "      <td>...</td>\n",
       "      <td>...</td>\n",
       "      <td>...</td>\n",
       "      <td>...</td>\n",
       "      <td>...</td>\n",
       "      <td>...</td>\n",
       "      <td>...</td>\n",
       "      <td>...</td>\n",
       "      <td>...</td>\n",
       "      <td>...</td>\n",
       "      <td>...</td>\n",
       "      <td>...</td>\n",
       "      <td>...</td>\n",
       "      <td>...</td>\n",
       "    </tr>\n",
       "    <tr>\n",
       "      <th>692</th>\n",
       "      <td>26</td>\n",
       "      <td>2</td>\n",
       "      <td>4788</td>\n",
       "      <td>48</td>\n",
       "      <td>0</td>\n",
       "      <td>1</td>\n",
       "      <td>0</td>\n",
       "      <td>1</td>\n",
       "      <td>0</td>\n",
       "      <td>1</td>\n",
       "      <td>...</td>\n",
       "      <td>0</td>\n",
       "      <td>0</td>\n",
       "      <td>0</td>\n",
       "      <td>1</td>\n",
       "      <td>0</td>\n",
       "      <td>0</td>\n",
       "      <td>0</td>\n",
       "      <td>0</td>\n",
       "      <td>0</td>\n",
       "      <td>0</td>\n",
       "    </tr>\n",
       "    <tr>\n",
       "      <th>693</th>\n",
       "      <td>36</td>\n",
       "      <td>2</td>\n",
       "      <td>1275</td>\n",
       "      <td>24</td>\n",
       "      <td>0</td>\n",
       "      <td>1</td>\n",
       "      <td>0</td>\n",
       "      <td>1</td>\n",
       "      <td>0</td>\n",
       "      <td>0</td>\n",
       "      <td>...</td>\n",
       "      <td>0</td>\n",
       "      <td>1</td>\n",
       "      <td>1</td>\n",
       "      <td>0</td>\n",
       "      <td>0</td>\n",
       "      <td>0</td>\n",
       "      <td>0</td>\n",
       "      <td>0</td>\n",
       "      <td>0</td>\n",
       "      <td>0</td>\n",
       "    </tr>\n",
       "    <tr>\n",
       "      <th>694</th>\n",
       "      <td>37</td>\n",
       "      <td>1</td>\n",
       "      <td>1274</td>\n",
       "      <td>12</td>\n",
       "      <td>1</td>\n",
       "      <td>0</td>\n",
       "      <td>0</td>\n",
       "      <td>1</td>\n",
       "      <td>0</td>\n",
       "      <td>1</td>\n",
       "      <td>...</td>\n",
       "      <td>0</td>\n",
       "      <td>0</td>\n",
       "      <td>0</td>\n",
       "      <td>1</td>\n",
       "      <td>0</td>\n",
       "      <td>0</td>\n",
       "      <td>0</td>\n",
       "      <td>0</td>\n",
       "      <td>0</td>\n",
       "      <td>0</td>\n",
       "    </tr>\n",
       "    <tr>\n",
       "      <th>695</th>\n",
       "      <td>41</td>\n",
       "      <td>1</td>\n",
       "      <td>5954</td>\n",
       "      <td>42</td>\n",
       "      <td>1</td>\n",
       "      <td>0</td>\n",
       "      <td>0</td>\n",
       "      <td>1</td>\n",
       "      <td>0</td>\n",
       "      <td>1</td>\n",
       "      <td>...</td>\n",
       "      <td>1</td>\n",
       "      <td>0</td>\n",
       "      <td>1</td>\n",
       "      <td>0</td>\n",
       "      <td>0</td>\n",
       "      <td>0</td>\n",
       "      <td>0</td>\n",
       "      <td>0</td>\n",
       "      <td>0</td>\n",
       "      <td>0</td>\n",
       "    </tr>\n",
       "    <tr>\n",
       "      <th>699</th>\n",
       "      <td>37</td>\n",
       "      <td>2</td>\n",
       "      <td>3676</td>\n",
       "      <td>6</td>\n",
       "      <td>0</td>\n",
       "      <td>1</td>\n",
       "      <td>0</td>\n",
       "      <td>0</td>\n",
       "      <td>1</td>\n",
       "      <td>1</td>\n",
       "      <td>...</td>\n",
       "      <td>0</td>\n",
       "      <td>0</td>\n",
       "      <td>0</td>\n",
       "      <td>1</td>\n",
       "      <td>0</td>\n",
       "      <td>0</td>\n",
       "      <td>0</td>\n",
       "      <td>0</td>\n",
       "      <td>0</td>\n",
       "      <td>0</td>\n",
       "    </tr>\n",
       "  </tbody>\n",
       "</table>\n",
       "<p>361 rows × 24 columns</p>\n",
       "</div>"
      ],
      "text/plain": [
       "     Age  Job  Credit amount  Duration  Sex_female  Sex_male  Housing_free  \\\n",
       "0     31    2           4473        36           0         1             0   \n",
       "5     36    1           4241        24           0         1             0   \n",
       "6     35    3           6948        36           0         1             0   \n",
       "7     24    2           2145        36           0         1             0   \n",
       "10    30    2            639        12           0         1             0   \n",
       "..   ...  ...            ...       ...         ...       ...           ...   \n",
       "692   26    2           4788        48           0         1             0   \n",
       "693   36    2           1275        24           0         1             0   \n",
       "694   37    1           1274        12           1         0             0   \n",
       "695   41    1           5954        42           1         0             0   \n",
       "699   37    2           3676         6           0         1             0   \n",
       "\n",
       "     Housing_own  Housing_rent  Saving accounts_little  ...  \\\n",
       "0              1             0                       1  ...   \n",
       "5              1             0                       1  ...   \n",
       "6              0             1                       1  ...   \n",
       "7              1             0                       1  ...   \n",
       "10             1             0                       1  ...   \n",
       "..           ...           ...                     ...  ...   \n",
       "692            1             0                       1  ...   \n",
       "693            1             0                       0  ...   \n",
       "694            1             0                       1  ...   \n",
       "695            1             0                       1  ...   \n",
       "699            0             1                       1  ...   \n",
       "\n",
       "     Checking account_moderate  Checking account_rich  Purpose_business  \\\n",
       "0                            0                      1                 0   \n",
       "5                            1                      0                 1   \n",
       "6                            1                      0                 0   \n",
       "7                            0                      0                 1   \n",
       "10                           1                      0                 0   \n",
       "..                         ...                    ...               ...   \n",
       "692                          0                      0                 0   \n",
       "693                          0                      1                 1   \n",
       "694                          0                      0                 0   \n",
       "695                          1                      0                 1   \n",
       "699                          0                      0                 0   \n",
       "\n",
       "     Purpose_car  Purpose_domestic appliances  Purpose_education  \\\n",
       "0              0                            0                  0   \n",
       "5              0                            0                  0   \n",
       "6              1                            0                  0   \n",
       "7              0                            0                  0   \n",
       "10             0                            0                  0   \n",
       "..           ...                          ...                ...   \n",
       "692            1                            0                  0   \n",
       "693            0                            0                  0   \n",
       "694            1                            0                  0   \n",
       "695            0                            0                  0   \n",
       "699            1                            0                  0   \n",
       "\n",
       "     Purpose_furniture/equipment  Purpose_radio/TV  Purpose_repairs  \\\n",
       "0                              0                 1                0   \n",
       "5                              0                 0                0   \n",
       "6                              0                 0                0   \n",
       "7                              0                 0                0   \n",
       "10                             0                 0                1   \n",
       "..                           ...               ...              ...   \n",
       "692                            0                 0                0   \n",
       "693                            0                 0                0   \n",
       "694                            0                 0                0   \n",
       "695                            0                 0                0   \n",
       "699                            0                 0                0   \n",
       "\n",
       "     Purpose_vacation/others  \n",
       "0                          0  \n",
       "5                          0  \n",
       "6                          0  \n",
       "7                          0  \n",
       "10                         0  \n",
       "..                       ...  \n",
       "692                        0  \n",
       "693                        0  \n",
       "694                        0  \n",
       "695                        0  \n",
       "699                        0  \n",
       "\n",
       "[361 rows x 24 columns]"
      ]
     },
     "execution_count": 333,
     "metadata": {},
     "output_type": "execute_result"
    }
   ],
   "source": [
    "X_train"
   ]
  },
  {
   "cell_type": "code",
   "execution_count": 334,
   "id": "49067685",
   "metadata": {},
   "outputs": [],
   "source": [
    "model = DecisionTreeClassifier()"
   ]
  },
  {
   "cell_type": "code",
   "execution_count": 335,
   "id": "27076429",
   "metadata": {},
   "outputs": [
    {
     "data": {
      "text/plain": [
       "DecisionTreeClassifier()"
      ]
     },
     "execution_count": 335,
     "metadata": {},
     "output_type": "execute_result"
    }
   ],
   "source": [
    "model.fit(X_train, y_train)"
   ]
  },
  {
   "cell_type": "code",
   "execution_count": 336,
   "id": "63e00cd9",
   "metadata": {},
   "outputs": [
    {
     "data": {
      "text/plain": [
       "array([0.12473664, 0.04626751, 0.32030394, 0.19541785, 0.0257066 ,\n",
       "       0.01587798, 0.01870899, 0.0056199 , 0.02397041, 0.0093665 ,\n",
       "       0.02496006, 0.01864187, 0.01925574, 0.02692351, 0.02341626,\n",
       "       0.00599456, 0.        , 0.0610696 , 0.        , 0.00760165,\n",
       "       0.01788384, 0.        , 0.00827658, 0.        ])"
      ]
     },
     "execution_count": 336,
     "metadata": {},
     "output_type": "execute_result"
    }
   ],
   "source": [
    "model.feature_importances_"
   ]
  },
  {
   "cell_type": "code",
   "execution_count": 337,
   "id": "2fe3469d",
   "metadata": {},
   "outputs": [
    {
     "data": {
      "text/plain": [
       "Index(['Age', 'Job', 'Credit amount', 'Duration', 'Sex_female', 'Sex_male',\n",
       "       'Housing_free', 'Housing_own', 'Housing_rent', 'Saving accounts_little',\n",
       "       'Saving accounts_moderate', 'Saving accounts_quite rich',\n",
       "       'Saving accounts_rich', 'Checking account_little',\n",
       "       'Checking account_moderate', 'Checking account_rich',\n",
       "       'Purpose_business', 'Purpose_car', 'Purpose_domestic appliances',\n",
       "       'Purpose_education', 'Purpose_furniture/equipment', 'Purpose_radio/TV',\n",
       "       'Purpose_repairs', 'Purpose_vacation/others'],\n",
       "      dtype='object')"
      ]
     },
     "execution_count": 337,
     "metadata": {},
     "output_type": "execute_result"
    }
   ],
   "source": [
    "X_train.columns"
   ]
  },
  {
   "cell_type": "code",
   "execution_count": 338,
   "id": "f2397b09",
   "metadata": {},
   "outputs": [
    {
     "data": {
      "image/png": "[encoded data removed]",
      "text/plain": [
       "<Figure size 432x288 with 1 Axes>"
      ]
     },
     "metadata": {
      "needs_background": "light"
     },
     "output_type": "display_data"
    }
   ],
   "source": [
    "plt.bar(x = X_train.columns, height = model.feature_importances_)\n",
    "plt.xticks(rotation = 90)\n",
    "plt.show()\n",
    "#variables mas relevantes en la prediccion "
   ]
  },
  {
   "cell_type": "code",
   "execution_count": 339,
   "id": "4fbdf548",
   "metadata": {},
   "outputs": [],
   "source": [
    "\n",
    "order_columns = X_train.columns[np.argsort(model.feature_importances_, )[::-1]]\n",
    "\n",
    "order_importances = np.sort(model.feature_importances_)[::-1]"
   ]
  },
  {
   "cell_type": "code",
   "execution_count": 340,
   "id": "7ff6cc7f",
   "metadata": {},
   "outputs": [
    {
     "data": {
      "image/png": "[encoded data removed]",
      "text/plain": [
       "<Figure size 432x288 with 1 Axes>"
      ]
     },
     "metadata": {
      "needs_background": "light"
     },
     "output_type": "display_data"
    }
   ],
   "source": [
    "plt.bar(x = order_columns, height = order_importances)\n",
    "plt.xticks(rotation = 90)\n",
    "plt.show()"
   ]
  },
  {
   "cell_type": "markdown",
   "id": "1e6135d8",
   "metadata": {},
   "source": [
    "## Regresion logistica"
   ]
  },
  {
   "cell_type": "code",
   "execution_count": 341,
   "id": "0f5d7d3d",
   "metadata": {},
   "outputs": [],
   "source": [
    "from sklearn.linear_model import LogisticRegression"
   ]
  },
  {
   "cell_type": "code",
   "execution_count": 342,
   "id": "3215dd9d",
   "metadata": {},
   "outputs": [],
   "source": [
    "X_train_scaled = MinMaxScaler().fit_transform(X_train)"
   ]
  },
  {
   "cell_type": "code",
   "execution_count": 343,
   "id": "62003b69",
   "metadata": {},
   "outputs": [],
   "source": [
    "model = LogisticRegression()"
   ]
  },
  {
   "cell_type": "code",
   "execution_count": 344,
   "id": "fdc5833a",
   "metadata": {},
   "outputs": [
    {
     "data": {
      "text/plain": [
       "LogisticRegression()"
      ]
     },
     "execution_count": 344,
     "metadata": {},
     "output_type": "execute_result"
    }
   ],
   "source": [
    "model.fit(X_train_scaled, y_train)"
   ]
  },
  {
   "cell_type": "code",
   "execution_count": 345,
   "id": "9912b9ff",
   "metadata": {},
   "outputs": [
    {
     "data": {
      "text/plain": [
       "array([[ 0.47424606,  0.46040332, -0.92624159, -2.03116232, -0.19687034,\n",
       "         0.19696162,  0.06881668,  0.14613817, -0.21486357, -0.46689979,\n",
       "        -0.41031105,  0.29891103,  0.57839108, -0.38283643, -0.16388134,\n",
       "         0.54680905,  0.28173634,  0.11494351, -0.14531633, -0.93147024,\n",
       "         0.17853055,  0.27162217,  0.07962265,  0.15042262]])"
      ]
     },
     "execution_count": 345,
     "metadata": {},
     "output_type": "execute_result"
    }
   ],
   "source": [
    "model.coef_"
   ]
  },
  {
   "cell_type": "code",
   "execution_count": 346,
   "id": "1c1b71c3",
   "metadata": {},
   "outputs": [
    {
     "data": {
      "text/plain": [
       "Index(['Age', 'Job', 'Credit amount', 'Duration', 'Sex_female', 'Sex_male',\n",
       "       'Housing_free', 'Housing_own', 'Housing_rent', 'Saving accounts_little',\n",
       "       'Saving accounts_moderate', 'Saving accounts_quite rich',\n",
       "       'Saving accounts_rich', 'Checking account_little',\n",
       "       'Checking account_moderate', 'Checking account_rich',\n",
       "       'Purpose_business', 'Purpose_car', 'Purpose_domestic appliances',\n",
       "       'Purpose_education', 'Purpose_furniture/equipment', 'Purpose_radio/TV',\n",
       "       'Purpose_repairs', 'Purpose_vacation/others'],\n",
       "      dtype='object')"
      ]
     },
     "execution_count": 346,
     "metadata": {},
     "output_type": "execute_result"
    }
   ],
   "source": [
    "X_train.columns"
   ]
  },
  {
   "cell_type": "code",
   "execution_count": 347,
   "id": "91e207ef",
   "metadata": {},
   "outputs": [
    {
     "data": {
      "image/png": "[encoded data removed]",
      "text/plain": [
       "<Figure size 432x288 with 1 Axes>"
      ]
     },
     "metadata": {
      "needs_background": "light"
     },
     "output_type": "display_data"
    }
   ],
   "source": [
    "plt.bar(x = X_train.columns, height = model.coef_[0]) \n",
    "plt.xticks(rotation = 90)\n",
    "plt.show()"
   ]
  },
  {
   "cell_type": "markdown",
   "id": "0ef16674",
   "metadata": {},
   "source": [
    "## Validacion Cruzada"
   ]
  },
  {
   "cell_type": "code",
   "execution_count": 354,
   "id": "61af40ab",
   "metadata": {},
   "outputs": [],
   "source": [
    "evaluation_pipeline = Pipeline(\n",
    "    [\n",
    "        ('Pipeline de procesamemiento',column_transformer),\n",
    "        ('Modelo de prediccion(arbol)', DecisionTreeClassifier(max_depth=3))\n",
    "    ]\n",
    ")"
   ]
  },
  {
   "cell_type": "code",
   "execution_count": 355,
   "id": "21143f32",
   "metadata": {},
   "outputs": [],
   "source": [
    "X_train = train[features]"
   ]
  },
  {
   "cell_type": "code",
   "execution_count": 356,
   "id": "d46b7ea4",
   "metadata": {},
   "outputs": [],
   "source": [
    "results = cross_validate(evaluation_pipeline, X_train, y_train, cv=10, return_train_score=True, scoring=['accuracy', 'f1'])"
   ]
  },
  {
   "cell_type": "code",
   "execution_count": 357,
   "id": "cf3d9851",
   "metadata": {},
   "outputs": [
    {
     "name": "stdout",
     "output_type": "stream",
     "text": [
      "train:  0.6743570750237416 +- 0.010504688830760682\n",
      "validation:  0.6313063063063064 +- 0.07450946849313422\n"
     ]
    }
   ],
   "source": [
    "print(\"train: \", results['train_accuracy'].mean(),\"+-\", results['train_accuracy'].std())\n",
    "print(\"validation: \", results['test_accuracy'].mean(),\"+-\", results['test_accuracy'].std())\n"
   ]
  },
  {
   "cell_type": "code",
   "execution_count": 366,
   "id": "fe602daa",
   "metadata": {},
   "outputs": [],
   "source": [
    "regression_pipeline = Pipeline(\n",
    "    [\n",
    "        ('Pipeline de procesamemiento',column_transformer),\n",
    "        ('Modelo de prediccion(regression)', LogisticRegression())\n",
    "    ]\n",
    ")"
   ]
  },
  {
   "cell_type": "code",
   "execution_count": 367,
   "id": "2c3da086",
   "metadata": {},
   "outputs": [],
   "source": [
    "results_2 = cross_validate(regression_pipeline, X_train, y_train, cv=10, return_train_score=True, scoring=['accuracy', 'f1'])"
   ]
  },
  {
   "cell_type": "code",
   "execution_count": 368,
   "id": "d83c5561",
   "metadata": {},
   "outputs": [
    {
     "name": "stdout",
     "output_type": "stream",
     "text": [
      "train:  0.6509734093067426 +- 0.010504688830760682\n",
      "validation:  0.6234234234234235 +- 0.07450946849313422\n"
     ]
    }
   ],
   "source": [
    "print(\"train: \", results_2['train_accuracy'].mean(),\"+-\", results['train_accuracy'].std())\n",
    "print(\"validation: \", results_2['test_accuracy'].mean(),\"+-\", results['test_accuracy'].std())"
   ]
  },
  {
   "cell_type": "code",
   "execution_count": 380,
   "id": "15d04689",
   "metadata": {},
   "outputs": [],
   "source": [
    "randfor_pipeline = Pipeline(\n",
    "    [\n",
    "        ('Pipeline de procesamemiento',column_transformer),\n",
    "        ('Modelo de prediccion(arbol aleatorio)', RandomForestClassifier(max_depth=3))\n",
    "    ]\n",
    ")"
   ]
  },
  {
   "cell_type": "code",
   "execution_count": 381,
   "id": "54342af3",
   "metadata": {},
   "outputs": [],
   "source": [
    "results_3 = cross_validate(randfor_pipeline, X_train, y_train, cv=10, return_train_score=True, scoring=['accuracy', 'f1'])"
   ]
  },
  {
   "cell_type": "code",
   "execution_count": 382,
   "id": "54c0a826",
   "metadata": {},
   "outputs": [
    {
     "name": "stdout",
     "output_type": "stream",
     "text": [
      "train:  0.6925194681861349 +- 0.010504688830760682\n",
      "validation:  0.6317567567567568 +- 0.07450946849313422\n"
     ]
    }
   ],
   "source": [
    "print(\"train: \", results_3['train_accuracy'].mean(),\"+-\", results['train_accuracy'].std())\n",
    "print(\"validation: \", results_3['test_accuracy'].mean(),\"+-\", results['test_accuracy'].std())"
   ]
  },
  {
   "cell_type": "code",
   "execution_count": 383,
   "id": "5a65bf40",
   "metadata": {},
   "outputs": [],
   "source": [
    "evaluation_pipeline_svm = Pipeline(\n",
    "    [\n",
    "        ('Pipeline de procesamemiento',column_transformer),\n",
    "        ('Modelo de prediccion(SVM)', SVC())\n",
    "    ]\n",
    ")"
   ]
  },
  {
   "cell_type": "code",
   "execution_count": 443,
   "id": "bfd09ab3",
   "metadata": {},
   "outputs": [],
   "source": [
    "results_4 = cross_validate(evaluation_pipeline_svm, X_train, y_train, cv=10, return_train_score=True, scoring=['accuracy', 'f1'])"
   ]
  },
  {
   "cell_type": "code",
   "execution_count": 444,
   "id": "edc1f94f",
   "metadata": {},
   "outputs": [
    {
     "name": "stdout",
     "output_type": "stream",
     "text": [
      "train:  0.6952905982905981 +- 0.010504688830760682\n",
      "validation:  0.6426426426426427 +- 0.07450946849313422\n"
     ]
    }
   ],
   "source": [
    "print(\"train: \", results_4['train_accuracy'].mean(),\"+-\", results['train_accuracy'].std())\n",
    "print(\"validation: \", results_4['test_accuracy'].mean(),\"+-\", results['test_accuracy'].std())"
   ]
  },
  {
   "cell_type": "code",
   "execution_count": 445,
   "id": "fb79f7c2",
   "metadata": {},
   "outputs": [],
   "source": [
    "from sklearn.ensemble import ExtraTreesClassifier\n",
    "from sklearn.ensemble import GradientBoostingRegressor\n",
    "from sklearn.model_selection import GridSearchCV "
   ]
  },
  {
   "cell_type": "code",
   "execution_count": 446,
   "id": "7fde6ebb",
   "metadata": {},
   "outputs": [],
   "source": [
    "evaluation_pipeline_etc = Pipeline(\n",
    "    [\n",
    "        ('Pipeline de procesamemiento',column_transformer),\n",
    "        ('Modelo de prediccion(etc)', ExtraTreesClassifier(max_depth=3))\n",
    "    ]\n",
    ")"
   ]
  },
  {
   "cell_type": "code",
   "execution_count": 447,
   "id": "0af67254",
   "metadata": {},
   "outputs": [],
   "source": [
    "results_5 = cross_validate(evaluation_pipeline_etc, X_train, y_train, cv=10, return_train_score=True, scoring=['accuracy', 'f1'])"
   ]
  },
  {
   "cell_type": "code",
   "execution_count": 448,
   "id": "f6151a46",
   "metadata": {},
   "outputs": [
    {
     "name": "stdout",
     "output_type": "stream",
     "text": [
      "train:  0.6799012345679012 +- 0.010504688830760682\n",
      "validation:  0.6094594594594595 +- 0.07450946849313422\n"
     ]
    }
   ],
   "source": [
    "print(\"train: \", results_5['train_accuracy'].mean(),\"+-\", results['train_accuracy'].std())\n",
    "print(\"validation: \", results_5['test_accuracy'].mean(),\"+-\", results['test_accuracy'].std())"
   ]
  },
  {
   "cell_type": "code",
   "execution_count": 449,
   "id": "db8f2164",
   "metadata": {},
   "outputs": [],
   "source": [
    "evaluation_pipeline_gbr = Pipeline(\n",
    "    [\n",
    "        ('Pipeline de procesamemiento',column_transformer),\n",
    "        ('Modelo de prediccion(etc)', GradientBoostingRegressor())\n",
    "    ]\n",
    ")"
   ]
  },
  {
   "cell_type": "code",
   "execution_count": 450,
   "id": "93268e24",
   "metadata": {},
   "outputs": [],
   "source": [
    "#results_6 = cross_validate(evaluation_pipeline_gbr, X_train, y_train, cv=10, return_train_score=True, scoring=['accuracy', 'f1'])"
   ]
  },
  {
   "cell_type": "markdown",
   "id": "30293fdf",
   "metadata": {},
   "source": [
    "## Ajuuste de hiperparametros"
   ]
  },
  {
   "cell_type": "code",
   "execution_count": 451,
   "id": "582a91eb",
   "metadata": {},
   "outputs": [],
   "source": [
    "# PROBAR 50 ARBOLES, 100 ARBOLES, 200 ARBOLES, ALTURAS: 2,3,5,10"
   ]
  },
  {
   "cell_type": "code",
   "execution_count": 460,
   "id": "840113eb",
   "metadata": {},
   "outputs": [],
   "source": [
    "grid = {'max_depth' : [2, 3, 5, 10], 'n_estimators': [50, 100, 200]}"
   ]
  },
  {
   "cell_type": "code",
   "execution_count": 461,
   "id": "6a56e8d0",
   "metadata": {},
   "outputs": [],
   "source": [
    "grid_search = GridSearchCV(RandomForestClassifier(), param_grid = grid, cv = 10, scoring='accuracy')"
   ]
  },
  {
   "cell_type": "code",
   "execution_count": 462,
   "id": "cb9df3cb",
   "metadata": {},
   "outputs": [],
   "source": [
    "X_train_transform = column_transformer.fit_transform(X_train)\n"
   ]
  },
  {
   "cell_type": "code",
   "execution_count": 463,
   "id": "6109fbee",
   "metadata": {},
   "outputs": [
    {
     "data": {
      "text/plain": [
       "GridSearchCV(cv=10, estimator=RandomForestClassifier(),\n",
       "             param_grid={'max_depth': [2, 3, 5, 10],\n",
       "                         'n_estimators': [50, 100, 200]},\n",
       "             scoring='accuracy')"
      ]
     },
     "execution_count": 463,
     "metadata": {},
     "output_type": "execute_result"
    }
   ],
   "source": [
    "grid_search.fit(X_train_transform, y_train)"
   ]
  },
  {
   "cell_type": "code",
   "execution_count": 464,
   "id": "2acacfa1",
   "metadata": {},
   "outputs": [
    {
     "data": {
      "text/plain": [
       "0.648048048048048"
      ]
     },
     "execution_count": 464,
     "metadata": {},
     "output_type": "execute_result"
    }
   ],
   "source": [
    "grid_search.best_score_"
   ]
  },
  {
   "cell_type": "code",
   "execution_count": 465,
   "id": "10871643",
   "metadata": {},
   "outputs": [
    {
     "data": {
      "text/plain": [
       "{'max_depth': 5, 'n_estimators': 50}"
      ]
     },
     "execution_count": 465,
     "metadata": {},
     "output_type": "execute_result"
    }
   ],
   "source": [
    "grid_search.best_params_"
   ]
  },
  {
   "cell_type": "code",
   "execution_count": 466,
   "id": "26540e3f",
   "metadata": {},
   "outputs": [
    {
     "data": {
      "text/plain": [
       "{'mean_fit_time': array([0.06348403, 0.10528967, 0.20158722, 0.05467069, 0.10393698,\n",
       "        0.20781355, 0.05769482, 0.1075372 , 0.2156177 , 0.05857201,\n",
       "        0.1165199 , 0.23081977]),\n",
       " 'std_fit_time': array([0.00720176, 0.00823637, 0.00249035, 0.00402982, 0.00174347,\n",
       "        0.0061198 , 0.00503797, 0.00179479, 0.00341129, 0.00146726,\n",
       "        0.0030983 , 0.00469498]),\n",
       " 'mean_score_time': array([0.00563159, 0.00771534, 0.01463187, 0.00428743, 0.00742784,\n",
       "        0.01463149, 0.00417192, 0.00751724, 0.01490197, 0.0042484 ,\n",
       "        0.00832007, 0.01481578]),\n",
       " 'std_score_time': array([2.65896312e-03, 8.46833052e-04, 1.59352446e-03, 4.99721210e-04,\n",
       "        8.29057338e-05, 1.16250438e-03, 6.35896856e-05, 8.63403316e-05,\n",
       "        1.62241125e-03, 5.48882290e-05, 1.39281721e-03, 1.00221056e-04]),\n",
       " 'param_max_depth': masked_array(data=[2, 2, 2, 3, 3, 3, 5, 5, 5, 10, 10, 10],\n",
       "              mask=[False, False, False, False, False, False, False, False,\n",
       "                    False, False, False, False],\n",
       "        fill_value='?',\n",
       "             dtype=object),\n",
       " 'param_n_estimators': masked_array(data=[50, 100, 200, 50, 100, 200, 50, 100, 200, 50, 100, 200],\n",
       "              mask=[False, False, False, False, False, False, False, False,\n",
       "                    False, False, False, False],\n",
       "        fill_value='?',\n",
       "             dtype=object),\n",
       " 'params': [{'max_depth': 2, 'n_estimators': 50},\n",
       "  {'max_depth': 2, 'n_estimators': 100},\n",
       "  {'max_depth': 2, 'n_estimators': 200},\n",
       "  {'max_depth': 3, 'n_estimators': 50},\n",
       "  {'max_depth': 3, 'n_estimators': 100},\n",
       "  {'max_depth': 3, 'n_estimators': 200},\n",
       "  {'max_depth': 5, 'n_estimators': 50},\n",
       "  {'max_depth': 5, 'n_estimators': 100},\n",
       "  {'max_depth': 5, 'n_estimators': 200},\n",
       "  {'max_depth': 10, 'n_estimators': 50},\n",
       "  {'max_depth': 10, 'n_estimators': 100},\n",
       "  {'max_depth': 10, 'n_estimators': 200}],\n",
       " 'split0_test_score': array([0.59459459, 0.59459459, 0.56756757, 0.56756757, 0.56756757,\n",
       "        0.54054054, 0.7027027 , 0.56756757, 0.59459459, 0.67567568,\n",
       "        0.62162162, 0.7027027 ]),\n",
       " 'split1_test_score': array([0.69444444, 0.66666667, 0.69444444, 0.69444444, 0.69444444,\n",
       "        0.69444444, 0.69444444, 0.66666667, 0.66666667, 0.66666667,\n",
       "        0.66666667, 0.63888889]),\n",
       " 'split2_test_score': array([0.55555556, 0.66666667, 0.63888889, 0.61111111, 0.63888889,\n",
       "        0.63888889, 0.66666667, 0.58333333, 0.63888889, 0.52777778,\n",
       "        0.61111111, 0.52777778]),\n",
       " 'split3_test_score': array([0.63888889, 0.61111111, 0.63888889, 0.58333333, 0.69444444,\n",
       "        0.66666667, 0.52777778, 0.58333333, 0.58333333, 0.58333333,\n",
       "        0.5       , 0.52777778]),\n",
       " 'split4_test_score': array([0.47222222, 0.5       , 0.5       , 0.52777778, 0.55555556,\n",
       "        0.55555556, 0.63888889, 0.61111111, 0.58333333, 0.61111111,\n",
       "        0.61111111, 0.61111111]),\n",
       " 'split5_test_score': array([0.58333333, 0.66666667, 0.63888889, 0.61111111, 0.63888889,\n",
       "        0.63888889, 0.61111111, 0.72222222, 0.66666667, 0.58333333,\n",
       "        0.66666667, 0.63888889]),\n",
       " 'split6_test_score': array([0.66666667, 0.63888889, 0.63888889, 0.66666667, 0.72222222,\n",
       "        0.69444444, 0.66666667, 0.69444444, 0.66666667, 0.61111111,\n",
       "        0.58333333, 0.61111111]),\n",
       " 'split7_test_score': array([0.66666667, 0.66666667, 0.63888889, 0.66666667, 0.63888889,\n",
       "        0.69444444, 0.66666667, 0.66666667, 0.66666667, 0.72222222,\n",
       "        0.63888889, 0.66666667]),\n",
       " 'split8_test_score': array([0.66666667, 0.69444444, 0.66666667, 0.63888889, 0.66666667,\n",
       "        0.66666667, 0.72222222, 0.72222222, 0.69444444, 0.66666667,\n",
       "        0.63888889, 0.66666667]),\n",
       " 'split9_test_score': array([0.44444444, 0.47222222, 0.47222222, 0.55555556, 0.52777778,\n",
       "        0.52777778, 0.58333333, 0.58333333, 0.52777778, 0.58333333,\n",
       "        0.58333333, 0.61111111]),\n",
       " 'mean_test_score': array([0.59834835, 0.61779279, 0.60953453, 0.61231231, 0.63453453,\n",
       "        0.63183183, 0.64804805, 0.64009009, 0.6289039 , 0.62312312,\n",
       "        0.61216216, 0.62027027]),\n",
       " 'std_test_score': array([0.08157521, 0.07178013, 0.06884466, 0.05154898, 0.06170587,\n",
       "        0.06266336, 0.05637613, 0.05798421, 0.05065209, 0.05522995,\n",
       "        0.04658794, 0.05399542]),\n",
       " 'rank_test_score': array([12,  8, 11,  9,  3,  4,  1,  2,  5,  6, 10,  7], dtype=int32)}"
      ]
     },
     "execution_count": 466,
     "metadata": {},
     "output_type": "execute_result"
    }
   ],
   "source": [
    "grid_search.cv_results_"
   ]
  },
  {
   "cell_type": "markdown",
   "id": "b78f7e3a",
   "metadata": {},
   "source": [
    "## ENTRENAMIENTO FINAL "
   ]
  },
  {
   "cell_type": "code",
   "execution_count": 467,
   "id": "de32c45e",
   "metadata": {},
   "outputs": [],
   "source": [
    "final_pipeline = Pipeline(\n",
    "    [\n",
    "        ('Pipeline de procesamemiento',column_transformer),\n",
    "        ('Modelo de prediccion(arbol aleatorio)', RandomForestClassifier(max_depth=5, n_estimators=50))\n",
    "    ]\n",
    ")"
   ]
  },
  {
   "cell_type": "code",
   "execution_count": 468,
   "id": "c1d1823f",
   "metadata": {},
   "outputs": [
    {
     "data": {
      "text/plain": [
       "Pipeline(steps=[('Pipeline de procesamemiento',\n",
       "                 ColumnTransformer(transformers=[('numeric_pipeline',\n",
       "                                                  Pipeline(steps=[('imputacion '\n",
       "                                                                   'con la '\n",
       "                                                                   'media',\n",
       "                                                                   SimpleImputer()),\n",
       "                                                                  ('Escalado '\n",
       "                                                                   'minmax',\n",
       "                                                                   MinMaxScaler())]),\n",
       "                                                  [0, 1, 2]),\n",
       "                                                 ('category_pipeline',\n",
       "                                                  Pipeline(steps=[('imputacion '\n",
       "                                                                   'con la '\n",
       "                                                                   'moda',\n",
       "                                                                   SimpleImputer(strategy='most_frequent')),\n",
       "                                                                  ('Codificar',\n",
       "                                                                   OneHotEncoder(sparse=False))]),\n",
       "                                                  [3, 4, 5])])),\n",
       "                ('Modelo de prediccion(arbol aleatorio)',\n",
       "                 RandomForestClassifier(max_depth=5, n_estimators=50))])"
      ]
     },
     "execution_count": 468,
     "metadata": {},
     "output_type": "execute_result"
    }
   ],
   "source": [
    "final_pipeline.fit(X_train, y_train)"
   ]
  },
  {
   "cell_type": "code",
   "execution_count": 471,
   "id": "afe9dbd7",
   "metadata": {},
   "outputs": [
    {
     "data": {
      "text/plain": [
       "['model.joblib']"
      ]
     },
     "execution_count": 471,
     "metadata": {},
     "output_type": "execute_result"
    }
   ],
   "source": [
    "joblib.dump(final_pipeline, 'model.joblib')"
   ]
  },
  {
   "cell_type": "code",
   "execution_count": null,
   "id": "6db19639",
   "metadata": {},
   "outputs": [],
   "source": []
  }
 ],
 "metadata": {
  "kernelspec": {
   "display_name": "conda_python3",
   "language": "python",
   "name": "conda_python3"
  },
  "language_info": {
   "codemirror_mode": {
    "name": "ipython",
    "version": 3
   },
   "file_extension": ".py",
   "mimetype": "text/x-python",
   "name": "python",
   "nbconvert_exporter": "python",
   "pygments_lexer": "ipython3",
   "version": "3.8.12"
  }
 },
 "nbformat": 4,
 "nbformat_minor": 5
}
